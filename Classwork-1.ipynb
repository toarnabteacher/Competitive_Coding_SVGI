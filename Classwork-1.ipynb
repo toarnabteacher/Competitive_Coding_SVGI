{
 "cells": [
  {
   "cell_type": "markdown",
   "id": "89742256-a97a-4885-b773-0caef6a8a418",
   "metadata": {},
   "source": [
    "# **Competitive Coding with Python/C++/Java**"
   ]
  },
  {
   "cell_type": "markdown",
   "id": "cfdde8de-5785-4dfe-9423-22acc53b6435",
   "metadata": {},
   "source": [
    "## **Series Problem Solving:**"
   ]
  },
  {
   "cell_type": "code",
   "execution_count": 4,
   "id": "5161f290-3109-479e-94a8-d36c174d4079",
   "metadata": {},
   "outputs": [
    {
     "name": "stdin",
     "output_type": "stream",
     "text": [
      "Please enter the number of terms of the series: 10\n"
     ]
    },
    {
     "name": "stdout",
     "output_type": "stream",
     "text": [
      "For i = 1 adding term = 1...\n",
      "For i = 2 adding term = 2...\n",
      "For i = 3 adding term = 3...\n",
      "For i = 4 adding term = 4...\n",
      "For i = 5 adding ts = 10...\n",
      "For i = 6 adding term = 5...\n",
      "For i = 7 adding term = 6...\n",
      "For i = 8 adding term = 7...\n",
      "For i = 9 adding term = 8...\n",
      "For i = 10 adding ts = 26...\n",
      "So the final sum for 10 number of terms is 72...\n",
      "End of the program...\n"
     ]
    }
   ],
   "source": [
    "# Series Problem - 1\n",
    "#     i = 1   2   3   4   5    6   7   8   9   10   11  12 ...\n",
    "# total = 1 + 2 + 3 + 4 + 10 + 5 + 6 + 7 + 8 + 26 + 9 + 10 + ...\n",
    "\n",
    "# What will be the 99th term of this series? 99, 97,\n",
    "# Write a program in C++/Java/Python to print the first n terms of the series. Take integer n from the user.\n",
    "n = int(input(\"Please enter the number of terms of the series:\"))\n",
    "ts = fs = 0\n",
    "term = 1\n",
    "for i in range(1, n + 1):\n",
    "    if (i % 5 == 0):\n",
    "        fs = fs + ts\n",
    "        print(f\"For i = {i} adding ts = {ts}...\")\n",
    "        ts = 0\n",
    "    else:\n",
    "        fs = fs + term\n",
    "        ts = ts + term\n",
    "        print(f\"For i = {i} adding term = {term}...\")\n",
    "        term += 1\n",
    "print(f\"So the final sum for {n} number of terms is {fs}...\")\n",
    "print(\"End of the program...\")"
   ]
  },
  {
   "cell_type": "code",
   "execution_count": 7,
   "id": "eb130d26-0b04-4a1b-bf9e-786703d0d81f",
   "metadata": {},
   "outputs": [
    {
     "name": "stdin",
     "output_type": "stream",
     "text": [
      "Please enter the number of terms of the series: 10\n"
     ]
    },
    {
     "name": "stdout",
     "output_type": "stream",
     "text": [
      "For i = 1 adding term = 1...\n",
      "For i = 2 adding term = 2...\n",
      "For i = 3 adding term = 3...\n",
      "For i = 4 adding term = 4...\n",
      "For i = 5 adding term = 5...\n",
      "For i = 6 adding term = 6...\n",
      "For i = 7 adding term = 7...\n",
      "For i = 8 adding term = 8...\n",
      "For i = 9 adding term = 9...\n",
      "For i = 10 adding term = 10...\n",
      "So the final sum for 10 number of terms is 55...\n",
      "End of the program...\n"
     ]
    }
   ],
   "source": [
    "# Series Problem - 2\n",
    "#     i = 1   2   3   4   5   6   7   8   9   10 ...\n",
    "# total = 1 + 2 + 3 + 4 + 5 + 6 + 7 + 8 + 9 + 10 + ...\n",
    "# Write a program in C++/Java/Python to print the first n terms of the series. Take integer n from the user.\n",
    "n = int(input(\"Please enter the number of terms of the series:\"))\n",
    "total = 0\n",
    "for i in range(1, n + 1):\n",
    "    total = total + i\n",
    "    print(f\"For i = {i} adding term = {i}...\")\n",
    "        \n",
    "print(f\"So the final sum for {n} number of terms is {total}...\")\n",
    "print(\"End of the program...\")"
   ]
  },
  {
   "cell_type": "code",
   "execution_count": 10,
   "id": "fc75cbbd-297c-496d-b94d-9d084572c511",
   "metadata": {},
   "outputs": [
    {
     "name": "stdin",
     "output_type": "stream",
     "text": [
      "Please enter the number of terms of the series: 10\n"
     ]
    },
    {
     "name": "stdout",
     "output_type": "stream",
     "text": [
      "For i = 1 adding term = 2...\n",
      "For i = 2 adding term = 4...\n",
      "For i = 3 adding term = 6...\n",
      "For i = 4 adding term = 8...\n",
      "For i = 5 adding term = 10...\n",
      "For i = 6 adding term = 12...\n",
      "For i = 7 adding term = 14...\n",
      "For i = 8 adding term = 16...\n",
      "For i = 9 adding term = 18...\n",
      "For i = 10 adding term = 20...\n",
      "So the final sum for 10 number of terms is 110...\n",
      "End of the program...\n"
     ]
    }
   ],
   "source": [
    "# Series Problem - 3\n",
    "#     i = 1   2   3   4   5    6    7    8    9    10 ...\n",
    "# total = 2 + 4 + 6 + 8 + 10 + 12 + 14 + 16 + 18 + 20 + ...\n",
    "# Write a program in C++/Java/Python to print the first n terms of the series. Take integer n from the user.\n",
    "n = int(input(\"Please enter the number of terms of the series:\"))\n",
    "total = 0\n",
    "for i in range(1, n + 1):\n",
    "    total = total + 2 * i\n",
    "    print(f\"For i = {i} adding term = {2 * i}...\")\n",
    "        \n",
    "print(f\"So the final sum for {n} number of terms is {total}...\")\n",
    "print(\"End of the program...\")"
   ]
  },
  {
   "cell_type": "code",
   "execution_count": 11,
   "id": "f7e00b1a-76da-415e-9e20-ca3245c3cace",
   "metadata": {},
   "outputs": [
    {
     "name": "stdin",
     "output_type": "stream",
     "text": [
      "Please enter the number of terms of the series: 8\n"
     ]
    },
    {
     "name": "stdout",
     "output_type": "stream",
     "text": [
      "For i = 1 adding term = 1...\n",
      "For i = 2 adding term = 3...\n",
      "For i = 3 adding term = 5...\n",
      "For i = 4 adding term = 7...\n",
      "For i = 5 adding term = 9...\n",
      "For i = 6 adding term = 11...\n",
      "For i = 7 adding term = 13...\n",
      "For i = 8 adding term = 15...\n",
      "So the final sum for 8 number of terms is 64...\n",
      "End of the program...\n"
     ]
    }
   ],
   "source": [
    "# Series Problem - 3\n",
    "#     i = 1   2   3   4   5   6    7    8    9    10 ...\n",
    "# total = 1 + 3 + 5 + 7 + 9 + 11 + 13 + 15 + 17 + 19 + ...\n",
    "# Write a program in C++/Java/Python to print the first n terms of the series. Take integer n from the user.\n",
    "n = int(input(\"Please enter the number of terms of the series:\"))\n",
    "total = 0\n",
    "for i in range(1, n + 1):\n",
    "    total = total + 2 * i - 1\n",
    "    print(f\"For i = {i} adding term = {2 * i - 1}...\")\n",
    "        \n",
    "print(f\"So the final sum for {n} number of terms is {total}...\")\n",
    "print(\"End of the program...\")"
   ]
  },
  {
   "cell_type": "code",
   "execution_count": 12,
   "id": "ff7cc252-621a-4567-9384-48f23c5a6b82",
   "metadata": {},
   "outputs": [
    {
     "name": "stdin",
     "output_type": "stream",
     "text": [
      "Please enter the number of terms of the series: 10\n"
     ]
    },
    {
     "name": "stdout",
     "output_type": "stream",
     "text": [
      "For i = 1 adding term = 1...\n",
      "For i = 2 adding term = -3...\n",
      "For i = 3 adding term = 5...\n",
      "For i = 4 adding term = -7...\n",
      "For i = 5 adding term = 9...\n",
      "For i = 6 adding term = -11...\n",
      "For i = 7 adding term = 13...\n",
      "For i = 8 adding term = -15...\n",
      "For i = 9 adding term = 17...\n",
      "For i = 10 adding term = -19...\n",
      "So the final sum for 10 number of terms is -10...\n",
      "End of the program...\n"
     ]
    }
   ],
   "source": [
    "# Series Problem - 4\n",
    "#     i = 1   2   3   4   5   6    7    8    9    10 ...\n",
    "# total = 1 - 3 + 5 - 7 + 9 - 11 + 13 - 15 + 17 - 19 + ...\n",
    "# Write a program in C++/Java/Python to print the first n terms of the series. Take integer n from the user.\n",
    "n = int(input(\"Please enter the number of terms of the series:\"))\n",
    "total = 0\n",
    "for i in range(1, n + 1):\n",
    "    total = total + (-1) ** (i + 1) * (2 * i - 1)\n",
    "    print(f\"For i = {i} adding term = {(-1) ** (i + 1) * (2 * i - 1)}...\")\n",
    "        \n",
    "print(f\"So the final sum for {n} number of terms is {total}...\")\n",
    "print(\"End of the program...\")"
   ]
  },
  {
   "cell_type": "code",
   "execution_count": 14,
   "id": "ce680460-093e-4db3-b794-26127c442a1f",
   "metadata": {},
   "outputs": [
    {
     "name": "stdin",
     "output_type": "stream",
     "text": [
      "Please enter the number of terms of the series: 8\n"
     ]
    },
    {
     "name": "stdout",
     "output_type": "stream",
     "text": [
      "For i = 1 adding term = -1...\n",
      "For i = 2 adding term = 3...\n",
      "For i = 3 adding term = -5...\n",
      "For i = 4 adding term = 7...\n",
      "For i = 5 adding term = -9...\n",
      "For i = 6 adding term = 11...\n",
      "For i = 7 adding term = -13...\n",
      "For i = 8 adding term = 15...\n",
      "So the final sum for 8 number of terms is 8...\n",
      "End of the program...\n"
     ]
    }
   ],
   "source": [
    "# Series Problem - 5\n",
    "#     i =   1   2   3   4   5   6    7    8    9    10 ...\n",
    "# total = - 1 + 3 - 5 + 7 - 9 + 11 - 13 + 15 - 17 + 19 + ...\n",
    "# Write a program in C++/Java/Python to print the first n terms of the series. Take integer n from the user.\n",
    "n = int(input(\"Please enter the number of terms of the series:\"))\n",
    "total = 0\n",
    "for i in range(1, n + 1):\n",
    "    total = total - (-1) ** (i + 1) * (2 * i - 1)\n",
    "    print(f\"For i = {i} adding term = {- (-1) ** (i + 1) * (2 * i - 1)}...\")\n",
    "        \n",
    "print(f\"So the final sum for {n} number of terms is {total}...\")\n",
    "print(\"End of the program...\")"
   ]
  },
  {
   "cell_type": "code",
   "execution_count": 15,
   "id": "91b3c90e-48b6-4a00-b1ad-7b6efaf0956e",
   "metadata": {},
   "outputs": [
    {
     "name": "stdin",
     "output_type": "stream",
     "text": [
      "Please enter the number of terms of the series: 5\n"
     ]
    },
    {
     "name": "stdout",
     "output_type": "stream",
     "text": [
      "For i = 1 adding term = 1! = 1...\n",
      "For i = 2 adding term = 2! = 2...\n",
      "For i = 3 adding term = 3! = 6...\n",
      "For i = 4 adding term = 4! = 24...\n",
      "For i = 5 adding term = 5! = 120...\n",
      "So the final sum for 5 number of terms is 153...\n",
      "End of the program...\n"
     ]
    }
   ],
   "source": [
    "# Series Problem - 6\n",
    "#     i =   1    2    3    4    5  ...\n",
    "# total = - 1! + 2! + 3! + 4! + 5! + ...\n",
    "# Write a program in C++/Java/Python to print the first n terms of the series. Take integer n from the user.\n",
    "n = int(input(\"Please enter the number of terms of the series:\"))\n",
    "total = 0\n",
    "for i in range(1, n + 1):\n",
    "    fact = 1\n",
    "    for j  in range(1, i + 1):\n",
    "        fact *= j\n",
    "    total = total + fact\n",
    "    print(f\"For i = {i} adding term = {i}! = {fact}...\")\n",
    "        \n",
    "print(f\"So the final sum for {n} number of terms is {total}...\")\n",
    "print(\"End of the program...\")"
   ]
  },
  {
   "cell_type": "code",
   "execution_count": 18,
   "id": "86306c03-dcda-49b7-b958-6222060de3f3",
   "metadata": {},
   "outputs": [
    {
     "name": "stdin",
     "output_type": "stream",
     "text": [
      "Please enter the number of terms of the series: 5\n"
     ]
    },
    {
     "name": "stdout",
     "output_type": "stream",
     "text": [
      "For i = 1 adding fact = 1...\n",
      "For i = 2 adding fact = 2...\n",
      "For i = 3 adding fact = 6...\n",
      "For i = 4 adding fact = 24...\n",
      "For i = 5 adding fact = 120...\n",
      "So the final sum for 5 number of terms is 153...\n",
      "End of the program...\n"
     ]
    }
   ],
   "source": [
    "# Series Problem - 7\n",
    "#     i =   1    2    3    4    5  ...\n",
    "# total = - 1! + 2! + 3! + 4! + 5! + ...\n",
    "# Write a program in C++/Java/Python to print the first n terms of the series. Take integer n from the user.\n",
    "#   i    term\n",
    "# -------------\n",
    "#   1      2\n",
    "#   2      3\n",
    "#   3      4\n",
    "#   i      (i + 1)\n",
    "# -------------\n",
    "\n",
    "n = int(input(\"Please enter the number of terms of the series:\"))\n",
    "total = 0\n",
    "fact = 1\n",
    "for i in range(1, n + 1):\n",
    "    total = total + fact\n",
    "    print(f\"For i = {i} adding fact = {fact}...\")\n",
    "    fact = fact * (i + 1)\n",
    "        \n",
    "print(f\"So the final sum for {n} number of terms is {total}...\")\n",
    "print(\"End of the program...\")"
   ]
  },
  {
   "cell_type": "code",
   "execution_count": null,
   "id": "2b1c8280-d398-4ef7-81b0-28112e73ddd9",
   "metadata": {},
   "outputs": [],
   "source": [
    "# Series Problem - 8\n",
    "#     i =   1    2    3    4    5  ...\n",
    "# total = - 1! + 3! + 5! + 7! + 9! + ...\n",
    "# Write a program in C++/Java/Python to print the first n terms of the series. Take integer n from the user.\n",
    "#   i    term\n",
    "# -------------\n",
    "#   1      2, 3\n",
    "#   2      4, 5\n",
    "#   3      6, 7\n",
    "#   i      (???), {???}\n",
    "# -------------\n",
    "\n",
    "n = int(input(\"Please enter the number of terms of the series:\"))\n",
    "total = 0\n",
    "fact = 1\n",
    "for i in range(1, n + 1):\n",
    "    total = total + fact\n",
    "    print(f\"For i = {i} adding fact = {fact}...\")\n",
    "    fact = fact * (???) * (???)\n",
    "        \n",
    "print(f\"So the final sum for {n} number of terms is {total}...\")\n",
    "print(\"End of the program...\")"
   ]
  },
  {
   "cell_type": "code",
   "execution_count": null,
   "id": "7da00f6f-3580-485d-b543-cbf577159d40",
   "metadata": {},
   "outputs": [],
   "source": []
  },
  {
   "cell_type": "code",
   "execution_count": null,
   "id": "745382f8-e768-4911-858b-e4df7010a18a",
   "metadata": {},
   "outputs": [],
   "source": []
  },
  {
   "cell_type": "code",
   "execution_count": null,
   "id": "6e51c7a3-0383-46ae-a4b9-b04d4de251e5",
   "metadata": {},
   "outputs": [],
   "source": []
  },
  {
   "cell_type": "code",
   "execution_count": null,
   "id": "603d68f4-9298-4278-aab9-f1c7e9ba4393",
   "metadata": {},
   "outputs": [],
   "source": []
  },
  {
   "cell_type": "code",
   "execution_count": null,
   "id": "2d505f8c-a64a-4077-a8db-472541bde0ef",
   "metadata": {},
   "outputs": [],
   "source": []
  },
  {
   "cell_type": "code",
   "execution_count": null,
   "id": "3a20d508-ccde-4906-9d26-94c53d3a1205",
   "metadata": {},
   "outputs": [],
   "source": []
  },
  {
   "cell_type": "code",
   "execution_count": null,
   "id": "2f255300-ab8a-422e-82b5-0b19e7411f11",
   "metadata": {},
   "outputs": [],
   "source": []
  },
  {
   "cell_type": "code",
   "execution_count": null,
   "id": "a7985a90-cad5-4484-9446-a4e0ea2af152",
   "metadata": {},
   "outputs": [],
   "source": []
  },
  {
   "cell_type": "code",
   "execution_count": null,
   "id": "6b8945da-1d58-4846-97b1-cb15a334a801",
   "metadata": {},
   "outputs": [],
   "source": []
  },
  {
   "cell_type": "code",
   "execution_count": null,
   "id": "25d8d7a2-7f76-45f7-bd05-b9027df825fb",
   "metadata": {},
   "outputs": [],
   "source": []
  },
  {
   "cell_type": "code",
   "execution_count": null,
   "id": "95e3cf83-e47f-42fa-bf62-82f761eb8fad",
   "metadata": {},
   "outputs": [],
   "source": []
  },
  {
   "cell_type": "code",
   "execution_count": null,
   "id": "2a284d58-380f-439f-99d2-894c73f1dd1f",
   "metadata": {},
   "outputs": [],
   "source": []
  },
  {
   "cell_type": "code",
   "execution_count": null,
   "id": "e0796b8d-afdf-4ee3-9ee2-fc4d73c19c81",
   "metadata": {},
   "outputs": [],
   "source": []
  },
  {
   "cell_type": "code",
   "execution_count": null,
   "id": "dfd063fb-6166-41f5-9556-006efe0bca05",
   "metadata": {},
   "outputs": [],
   "source": []
  },
  {
   "cell_type": "code",
   "execution_count": null,
   "id": "be0483b1-f0c7-4263-9d48-b82e9b42856e",
   "metadata": {},
   "outputs": [],
   "source": []
  },
  {
   "cell_type": "code",
   "execution_count": null,
   "id": "ad989664-8912-41d1-a2c6-c9973cb7fe41",
   "metadata": {},
   "outputs": [],
   "source": []
  },
  {
   "cell_type": "code",
   "execution_count": null,
   "id": "d55562f5-d8a0-4f4a-95c7-ef4307756953",
   "metadata": {},
   "outputs": [],
   "source": []
  },
  {
   "cell_type": "code",
   "execution_count": null,
   "id": "998eaa00-030e-4b62-b2b5-062815a6b3f5",
   "metadata": {},
   "outputs": [],
   "source": []
  },
  {
   "cell_type": "code",
   "execution_count": null,
   "id": "9a07364e-c672-4869-b569-28f1ead94734",
   "metadata": {},
   "outputs": [],
   "source": []
  },
  {
   "cell_type": "code",
   "execution_count": null,
   "id": "5430f9d7-6ebd-453a-98dd-0398a265e581",
   "metadata": {},
   "outputs": [],
   "source": []
  }
 ],
 "metadata": {
  "kernelspec": {
   "display_name": "Python 3 (ipykernel)",
   "language": "python",
   "name": "python3"
  },
  "language_info": {
   "codemirror_mode": {
    "name": "ipython",
    "version": 3
   },
   "file_extension": ".py",
   "mimetype": "text/x-python",
   "name": "python",
   "nbconvert_exporter": "python",
   "pygments_lexer": "ipython3",
   "version": "3.11.7"
  }
 },
 "nbformat": 4,
 "nbformat_minor": 5
}
