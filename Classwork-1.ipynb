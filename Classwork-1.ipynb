{
 "cells": [
  {
   "cell_type": "markdown",
   "id": "89742256-a97a-4885-b773-0caef6a8a418",
   "metadata": {},
   "source": [
    "# **Competitive Coding with Python/C++/Java**"
   ]
  },
  {
   "cell_type": "markdown",
   "id": "cfdde8de-5785-4dfe-9423-22acc53b6435",
   "metadata": {},
   "source": [
    "## **Series Problem Solving:**"
   ]
  },
  {
   "cell_type": "code",
   "execution_count": 2,
   "id": "5161f290-3109-479e-94a8-d36c174d4079",
   "metadata": {},
   "outputs": [
    {
     "name": "stdin",
     "output_type": "stream",
     "text": [
      "Please enter the number of terms of the series: 100\n"
     ]
    },
    {
     "name": "stdout",
     "output_type": "stream",
     "text": [
      "For i = 1 adding term = 1...\n",
      "For i = 2 adding term = 2...\n",
      "For i = 3 adding term = 3...\n",
      "For i = 4 adding term = 4...\n",
      "For i = 5 adding ts = 10...\n",
      "For i = 6 adding term = 5...\n",
      "For i = 7 adding term = 6...\n",
      "For i = 8 adding term = 7...\n",
      "For i = 9 adding term = 8...\n",
      "For i = 10 adding ts = 26...\n",
      "For i = 11 adding term = 9...\n",
      "For i = 12 adding term = 10...\n",
      "For i = 13 adding term = 11...\n",
      "For i = 14 adding term = 12...\n",
      "For i = 15 adding ts = 42...\n",
      "For i = 16 adding term = 13...\n",
      "For i = 17 adding term = 14...\n",
      "For i = 18 adding term = 15...\n",
      "For i = 19 adding term = 16...\n",
      "For i = 20 adding ts = 58...\n",
      "For i = 21 adding term = 17...\n",
      "For i = 22 adding term = 18...\n",
      "For i = 23 adding term = 19...\n",
      "For i = 24 adding term = 20...\n",
      "For i = 25 adding ts = 74...\n",
      "For i = 26 adding term = 21...\n",
      "For i = 27 adding term = 22...\n",
      "For i = 28 adding term = 23...\n",
      "For i = 29 adding term = 24...\n",
      "For i = 30 adding ts = 90...\n",
      "For i = 31 adding term = 25...\n",
      "For i = 32 adding term = 26...\n",
      "For i = 33 adding term = 27...\n",
      "For i = 34 adding term = 28...\n",
      "For i = 35 adding ts = 106...\n",
      "For i = 36 adding term = 29...\n",
      "For i = 37 adding term = 30...\n",
      "For i = 38 adding term = 31...\n",
      "For i = 39 adding term = 32...\n",
      "For i = 40 adding ts = 122...\n",
      "For i = 41 adding term = 33...\n",
      "For i = 42 adding term = 34...\n",
      "For i = 43 adding term = 35...\n",
      "For i = 44 adding term = 36...\n",
      "For i = 45 adding ts = 138...\n",
      "For i = 46 adding term = 37...\n",
      "For i = 47 adding term = 38...\n",
      "For i = 48 adding term = 39...\n",
      "For i = 49 adding term = 40...\n",
      "For i = 50 adding ts = 154...\n",
      "For i = 51 adding term = 41...\n",
      "For i = 52 adding term = 42...\n",
      "For i = 53 adding term = 43...\n",
      "For i = 54 adding term = 44...\n",
      "For i = 55 adding ts = 170...\n",
      "For i = 56 adding term = 45...\n",
      "For i = 57 adding term = 46...\n",
      "For i = 58 adding term = 47...\n",
      "For i = 59 adding term = 48...\n",
      "For i = 60 adding ts = 186...\n",
      "For i = 61 adding term = 49...\n",
      "For i = 62 adding term = 50...\n",
      "For i = 63 adding term = 51...\n",
      "For i = 64 adding term = 52...\n",
      "For i = 65 adding ts = 202...\n",
      "For i = 66 adding term = 53...\n",
      "For i = 67 adding term = 54...\n",
      "For i = 68 adding term = 55...\n",
      "For i = 69 adding term = 56...\n",
      "For i = 70 adding ts = 218...\n",
      "For i = 71 adding term = 57...\n",
      "For i = 72 adding term = 58...\n",
      "For i = 73 adding term = 59...\n",
      "For i = 74 adding term = 60...\n",
      "For i = 75 adding ts = 234...\n",
      "For i = 76 adding term = 61...\n",
      "For i = 77 adding term = 62...\n",
      "For i = 78 adding term = 63...\n",
      "For i = 79 adding term = 64...\n",
      "For i = 80 adding ts = 250...\n",
      "For i = 81 adding term = 65...\n",
      "For i = 82 adding term = 66...\n",
      "For i = 83 adding term = 67...\n",
      "For i = 84 adding term = 68...\n",
      "For i = 85 adding ts = 266...\n",
      "For i = 86 adding term = 69...\n",
      "For i = 87 adding term = 70...\n",
      "For i = 88 adding term = 71...\n",
      "For i = 89 adding term = 72...\n",
      "For i = 90 adding ts = 282...\n",
      "For i = 91 adding term = 73...\n",
      "For i = 92 adding term = 74...\n",
      "For i = 93 adding term = 75...\n",
      "For i = 94 adding term = 76...\n",
      "For i = 95 adding ts = 298...\n",
      "For i = 96 adding term = 77...\n",
      "For i = 97 adding term = 78...\n",
      "For i = 98 adding term = 79...\n",
      "For i = 99 adding term = 80...\n",
      "For i = 100 adding ts = 314...\n",
      "So the final sum for 100 number of terms is 6480...\n",
      "End of the program...\n"
     ]
    }
   ],
   "source": [
    "#     i = 1   2   3   4   5    6   7   8   9   10   11  12 ...\n",
    "# total = 1 + 2 + 3 + 4 + 10 + 5 + 6 + 7 + 8 + 26 + 9 + 10 + ...\n",
    "\n",
    "# What will be the 99th term of this series? 99, 97,\n",
    "# Write a program in C++/Java/Python to print the first n terms of the series. Take integer n from the user.\n",
    "n = int(input(\"Please enter the number of terms of the series:\"))\n",
    "ts = fs = 0\n",
    "term = 1\n",
    "for i in range(1, n + 1):\n",
    "    if (i % 5 == 0):\n",
    "        fs = fs + ts\n",
    "        print(f\"For i = {i} adding ts = {ts}...\")\n",
    "        ts = 0\n",
    "    else:\n",
    "        fs = fs + term\n",
    "        ts = ts + term\n",
    "        print(f\"For i = {i} adding term = {term}...\")\n",
    "        term += 1\n",
    "print(f\"So the final sum for {n} number of terms is {fs}...\")\n",
    "print(\"End of the program...\")"
   ]
  },
  {
   "cell_type": "code",
   "execution_count": null,
   "id": "eb130d26-0b04-4a1b-bf9e-786703d0d81f",
   "metadata": {},
   "outputs": [],
   "source": []
  },
  {
   "cell_type": "code",
   "execution_count": null,
   "id": "2b1c8280-d398-4ef7-81b0-28112e73ddd9",
   "metadata": {},
   "outputs": [],
   "source": []
  },
  {
   "cell_type": "code",
   "execution_count": null,
   "id": "7da00f6f-3580-485d-b543-cbf577159d40",
   "metadata": {},
   "outputs": [],
   "source": []
  },
  {
   "cell_type": "code",
   "execution_count": null,
   "id": "745382f8-e768-4911-858b-e4df7010a18a",
   "metadata": {},
   "outputs": [],
   "source": []
  },
  {
   "cell_type": "code",
   "execution_count": null,
   "id": "6e51c7a3-0383-46ae-a4b9-b04d4de251e5",
   "metadata": {},
   "outputs": [],
   "source": []
  },
  {
   "cell_type": "code",
   "execution_count": null,
   "id": "603d68f4-9298-4278-aab9-f1c7e9ba4393",
   "metadata": {},
   "outputs": [],
   "source": []
  },
  {
   "cell_type": "code",
   "execution_count": null,
   "id": "2d505f8c-a64a-4077-a8db-472541bde0ef",
   "metadata": {},
   "outputs": [],
   "source": []
  },
  {
   "cell_type": "code",
   "execution_count": null,
   "id": "3a20d508-ccde-4906-9d26-94c53d3a1205",
   "metadata": {},
   "outputs": [],
   "source": []
  },
  {
   "cell_type": "code",
   "execution_count": null,
   "id": "2f255300-ab8a-422e-82b5-0b19e7411f11",
   "metadata": {},
   "outputs": [],
   "source": []
  },
  {
   "cell_type": "code",
   "execution_count": null,
   "id": "a7985a90-cad5-4484-9446-a4e0ea2af152",
   "metadata": {},
   "outputs": [],
   "source": []
  },
  {
   "cell_type": "code",
   "execution_count": null,
   "id": "6b8945da-1d58-4846-97b1-cb15a334a801",
   "metadata": {},
   "outputs": [],
   "source": []
  },
  {
   "cell_type": "code",
   "execution_count": null,
   "id": "25d8d7a2-7f76-45f7-bd05-b9027df825fb",
   "metadata": {},
   "outputs": [],
   "source": []
  },
  {
   "cell_type": "code",
   "execution_count": null,
   "id": "95e3cf83-e47f-42fa-bf62-82f761eb8fad",
   "metadata": {},
   "outputs": [],
   "source": []
  },
  {
   "cell_type": "code",
   "execution_count": null,
   "id": "2a284d58-380f-439f-99d2-894c73f1dd1f",
   "metadata": {},
   "outputs": [],
   "source": []
  },
  {
   "cell_type": "code",
   "execution_count": null,
   "id": "e0796b8d-afdf-4ee3-9ee2-fc4d73c19c81",
   "metadata": {},
   "outputs": [],
   "source": []
  },
  {
   "cell_type": "code",
   "execution_count": null,
   "id": "dfd063fb-6166-41f5-9556-006efe0bca05",
   "metadata": {},
   "outputs": [],
   "source": []
  },
  {
   "cell_type": "code",
   "execution_count": null,
   "id": "be0483b1-f0c7-4263-9d48-b82e9b42856e",
   "metadata": {},
   "outputs": [],
   "source": []
  },
  {
   "cell_type": "code",
   "execution_count": null,
   "id": "ad989664-8912-41d1-a2c6-c9973cb7fe41",
   "metadata": {},
   "outputs": [],
   "source": []
  },
  {
   "cell_type": "code",
   "execution_count": null,
   "id": "d55562f5-d8a0-4f4a-95c7-ef4307756953",
   "metadata": {},
   "outputs": [],
   "source": []
  },
  {
   "cell_type": "code",
   "execution_count": null,
   "id": "998eaa00-030e-4b62-b2b5-062815a6b3f5",
   "metadata": {},
   "outputs": [],
   "source": []
  },
  {
   "cell_type": "code",
   "execution_count": null,
   "id": "9a07364e-c672-4869-b569-28f1ead94734",
   "metadata": {},
   "outputs": [],
   "source": []
  },
  {
   "cell_type": "code",
   "execution_count": null,
   "id": "5430f9d7-6ebd-453a-98dd-0398a265e581",
   "metadata": {},
   "outputs": [],
   "source": []
  }
 ],
 "metadata": {
  "kernelspec": {
   "display_name": "Python 3 (ipykernel)",
   "language": "python",
   "name": "python3"
  },
  "language_info": {
   "codemirror_mode": {
    "name": "ipython",
    "version": 3
   },
   "file_extension": ".py",
   "mimetype": "text/x-python",
   "name": "python",
   "nbconvert_exporter": "python",
   "pygments_lexer": "ipython3",
   "version": "3.11.7"
  }
 },
 "nbformat": 4,
 "nbformat_minor": 5
}
