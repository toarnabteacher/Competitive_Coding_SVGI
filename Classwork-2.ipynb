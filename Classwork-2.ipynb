{
 "cells": [
  {
   "cell_type": "markdown",
   "id": "8e0e82e8-56d9-4498-8fc8-5ec90b630cee",
   "metadata": {},
   "source": [
    "# **Competitive Coding with Python/C++/Java**"
   ]
  },
  {
   "cell_type": "markdown",
   "id": "9b7dc3a0-a683-4220-aba5-20c67d58720b",
   "metadata": {},
   "source": [
    "## **Array Fill-up Problem Solving:**"
   ]
  },
  {
   "cell_type": "code",
   "execution_count": null,
   "id": "1e03e99c-a977-4d07-a08c-688ea0d9f227",
   "metadata": {},
   "outputs": [],
   "source": [
    "# array fill-up problem-1\n",
    "n = 5 (User given integer)\n",
    "               col ->\n",
    "         0   1   2   3   4\n",
    "----------------------------\n",
    "^  0 |   1   2   3   4   5  0 + (col + 1)         (n, row, col)\n",
    "|  1 |   6   7   8   9  10  5 + (col + 1)  data => row * n + col + 1\n",
    "r  2 |  11  12  13  14  15  10 + (col + 1)\n",
    "o  3 |  16  17  18  19  20  15 + (col + 1)\n",
    "w  4 |  21  22  23  24  25  20 + (col + 1)\n",
    "----------------------------"
   ]
  },
  {
   "cell_type": "code",
   "execution_count": 4,
   "id": "a0c57881-7e16-42b3-b306-ab07e1428b71",
   "metadata": {},
   "outputs": [
    {
     "name": "stdin",
     "output_type": "stream",
     "text": [
      "Please enter the dimension of the matrix:  5\n"
     ]
    },
    {
     "name": "stdout",
     "output_type": "stream",
     "text": [
      "Filling up the matrix...\n",
      "Displaying the content of the matrix...\n",
      "   1   2   3   4   5\n",
      "   6   7   8   9  10\n",
      "  11  12  13  14  15\n",
      "  16  17  18  19  20\n",
      "  21  22  23  24  25\n",
      "End of the program...\n"
     ]
    }
   ],
   "source": [
    "n = int(input(\"Please enter the dimension of the matrix: \"))\n",
    "arr = [[0 for col in range(n)] for row in range(n)]   # list comprehension\n",
    "print(\"Filling up the matrix...\")\n",
    "for row in range(n):\n",
    "    for col in range(n):\n",
    "        arr[row][col] = row * n + col + 1\n",
    "print(\"Displaying the content of the matrix...\")\n",
    "for row in range(n):\n",
    "    for col in range(n):\n",
    "        print(\"%4d\"%arr[row][col], end = \"\")\n",
    "    print()\n",
    "print(\"End of the program...\")"
   ]
  },
  {
   "cell_type": "code",
   "execution_count": null,
   "id": "c82e6db4-6f7b-4f49-b5a9-8ed846fc7ca6",
   "metadata": {},
   "outputs": [],
   "source": [
    "# array fill-up problem-2\n",
    "\n",
    "n = 5 (User given integer)\n",
    "               col ->\n",
    "         0   1   2   3   4\n",
    "----------------------------\n",
    "^  0 |   1   6  11  16  21           (n, row, col)\n",
    "|  1 |   2   7  12  17  22   data => ???\n",
    "r  2 |   3   8  13  18  23 \n",
    "o  3 |   4   9  14  19  24\n",
    "w  4 |   5  10  15  20  25 \n",
    "----------------------------"
   ]
  },
  {
   "cell_type": "code",
   "execution_count": null,
   "id": "64711844-1d54-4ff1-afe1-77462b8332de",
   "metadata": {},
   "outputs": [],
   "source": [
    "n = int(input(\"Please enter the dimension of the matrix: \"))\n",
    "arr = [[0 for col in range(n)] for row in range(n)]   # list comprehension\n",
    "print(\"Filling up the matrix...\")\n",
    "for row in range(n):\n",
    "    for col in range(n):\n",
    "        arr[row][col] = ???\n",
    "print(\"Displaying the content of the matrix...\")\n",
    "for row in range(n):\n",
    "    for col in range(n):\n",
    "        print(\"%4d\"%arr[row][col], end = \"\")\n",
    "    print()\n",
    "print(\"End of the program...\")"
   ]
  },
  {
   "cell_type": "code",
   "execution_count": null,
   "id": "1aae5820-5e89-48be-8ffd-f5ed6cd15600",
   "metadata": {},
   "outputs": [],
   "source": []
  },
  {
   "cell_type": "code",
   "execution_count": null,
   "id": "3f64933f-c2db-42c8-9fe5-861c11334ecf",
   "metadata": {},
   "outputs": [],
   "source": []
  },
  {
   "cell_type": "code",
   "execution_count": null,
   "id": "12150593-92b6-453c-9fba-04ddb8bbb7a5",
   "metadata": {},
   "outputs": [],
   "source": []
  },
  {
   "cell_type": "code",
   "execution_count": null,
   "id": "080f5037-2324-4fe0-b2b1-d2569cb006ab",
   "metadata": {},
   "outputs": [],
   "source": []
  },
  {
   "cell_type": "code",
   "execution_count": null,
   "id": "940d090d-641e-4225-b525-caedff717067",
   "metadata": {},
   "outputs": [],
   "source": []
  },
  {
   "cell_type": "code",
   "execution_count": null,
   "id": "58ee8c41-f287-4017-b2d6-623352a14905",
   "metadata": {},
   "outputs": [],
   "source": []
  }
 ],
 "metadata": {
  "kernelspec": {
   "display_name": "Python 3 (ipykernel)",
   "language": "python",
   "name": "python3"
  },
  "language_info": {
   "codemirror_mode": {
    "name": "ipython",
    "version": 3
   },
   "file_extension": ".py",
   "mimetype": "text/x-python",
   "name": "python",
   "nbconvert_exporter": "python",
   "pygments_lexer": "ipython3",
   "version": "3.11.7"
  }
 },
 "nbformat": 4,
 "nbformat_minor": 5
}
