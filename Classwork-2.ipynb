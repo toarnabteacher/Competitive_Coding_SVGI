{
 "cells": [
  {
   "cell_type": "markdown",
   "id": "8e0e82e8-56d9-4498-8fc8-5ec90b630cee",
   "metadata": {},
   "source": [
    "# **Competitive Coding with Python/C++/Java**"
   ]
  },
  {
   "cell_type": "markdown",
   "id": "9b7dc3a0-a683-4220-aba5-20c67d58720b",
   "metadata": {},
   "source": [
    "## **Array Fill-up Problem Solving:**"
   ]
  },
  {
   "cell_type": "code",
   "execution_count": null,
   "id": "1e03e99c-a977-4d07-a08c-688ea0d9f227",
   "metadata": {},
   "outputs": [],
   "source": [
    "# array fill-up problem-1\n",
    "n = 5 (User given integer)\n",
    "               col ->\n",
    "         0   1   2   3   4\n",
    "----------------------------\n",
    "^  0 |   1   2   3   4   5  0 + (col + 1)         (n, row, col)\n",
    "|  1 |   6   7   8   9  10  5 + (col + 1)  data => row * n + col + 1\n",
    "r  2 |  11  12  13  14  15  10 + (col + 1)\n",
    "o  3 |  16  17  18  19  20  15 + (col + 1)\n",
    "w  4 |  21  22  23  24  25  20 + (col + 1)\n",
    "----------------------------"
   ]
  },
  {
   "cell_type": "code",
   "execution_count": 4,
   "id": "a0c57881-7e16-42b3-b306-ab07e1428b71",
   "metadata": {},
   "outputs": [
    {
     "name": "stdin",
     "output_type": "stream",
     "text": [
      "Please enter the dimension of the matrix:  5\n"
     ]
    },
    {
     "name": "stdout",
     "output_type": "stream",
     "text": [
      "Filling up the matrix...\n",
      "Displaying the content of the matrix...\n",
      "   1   2   3   4   5\n",
      "   6   7   8   9  10\n",
      "  11  12  13  14  15\n",
      "  16  17  18  19  20\n",
      "  21  22  23  24  25\n",
      "End of the program...\n"
     ]
    }
   ],
   "source": [
    "n = int(input(\"Please enter the dimension of the matrix: \"))\n",
    "arr = [[0 for col in range(n)] for row in range(n)]   # list comprehension\n",
    "print(\"Filling up the matrix...\")\n",
    "for row in range(n):\n",
    "    for col in range(n):\n",
    "        arr[row][col] = row * n + col + 1\n",
    "print(\"Displaying the content of the matrix...\")\n",
    "for row in range(n):\n",
    "    for col in range(n):\n",
    "        print(\"%4d\"%arr[row][col], end = \"\")\n",
    "    print()\n",
    "print(\"End of the program...\")"
   ]
  },
  {
   "cell_type": "code",
   "execution_count": null,
   "id": "c82e6db4-6f7b-4f49-b5a9-8ed846fc7ca6",
   "metadata": {},
   "outputs": [],
   "source": [
    "# array fill-up problem-2\n",
    "\n",
    "n = 5 (User given integer)\n",
    "               col ->\n",
    "         0   1   2   3   4\n",
    "----------------------------\n",
    "^  0 |   1   6  11  16  21           (n, row, col)\n",
    "|  1 |   2   7  12  17  22   data => col * n + row + 1\n",
    "r  2 |   3   8  13  18  23 \n",
    "o  3 |   4   9  14  19  24\n",
    "w  4 |   5  10  15  20  25 \n",
    "----------------------------"
   ]
  },
  {
   "cell_type": "code",
   "execution_count": 7,
   "id": "64711844-1d54-4ff1-afe1-77462b8332de",
   "metadata": {},
   "outputs": [
    {
     "name": "stdin",
     "output_type": "stream",
     "text": [
      "Please enter the dimension of the matrix:  5\n"
     ]
    },
    {
     "name": "stdout",
     "output_type": "stream",
     "text": [
      "Filling up the matrix...\n",
      "Displaying the content of the matrix...\n",
      "   1   6  11  16  21\n",
      "   2   7  12  17  22\n",
      "   3   8  13  18  23\n",
      "   4   9  14  19  24\n",
      "   5  10  15  20  25\n",
      "End of the program...\n"
     ]
    }
   ],
   "source": [
    "n = int(input(\"Please enter the dimension of the matrix: \"))\n",
    "arr = [[0 for col in range(n)] for row in range(n)]   # list comprehension\n",
    "print(\"Filling up the matrix...\")\n",
    "for row in range(n):\n",
    "    for col in range(n):\n",
    "        arr[row][col] = col * n + row + 1\n",
    "print(\"Displaying the content of the matrix...\")\n",
    "for row in range(n):\n",
    "    for col in range(n):\n",
    "        print(\"%4d\"%arr[row][col], end = \"\")\n",
    "    print()\n",
    "print(\"End of the program...\")"
   ]
  },
  {
   "cell_type": "code",
   "execution_count": null,
   "id": "1aae5820-5e89-48be-8ffd-f5ed6cd15600",
   "metadata": {},
   "outputs": [],
   "source": [
    "# array fill-up problem-3\n",
    "\n",
    "n = 5 (User given ODD integer)\n",
    "               col ->\n",
    "         0   1   2   3   4\n",
    "----------------------------\n",
    "^  0 |  10   0   0   0   0           (n, row, col)\n",
    "|  1 |   0  10   0   0   0   data => ???\n",
    "r  2 |   0   0  10   0   0 \n",
    "o  3 |   0   0   0  10   0\n",
    "w  4 |   0   0   0   0  10 \n",
    "----------------------------"
   ]
  },
  {
   "cell_type": "code",
   "execution_count": 9,
   "id": "3f64933f-c2db-42c8-9fe5-861c11334ecf",
   "metadata": {},
   "outputs": [
    {
     "name": "stdin",
     "output_type": "stream",
     "text": [
      "Please enter the dimension of the matrix:  10\n",
      "Please enter the dimension of the matrix:  20\n",
      "Please enter the dimension of the matrix:  5\n"
     ]
    },
    {
     "name": "stdout",
     "output_type": "stream",
     "text": [
      "Filling up the matrix...\n",
      "Displaying the content of the matrix...\n",
      "  10   0   0   0   0\n",
      "   0  10   0   0   0\n",
      "   0   0  10   0   0\n",
      "   0   0   0  10   0\n",
      "   0   0   0   0  10\n",
      "End of the program...\n"
     ]
    }
   ],
   "source": [
    "while (True):\n",
    "    n = int(input(\"Please enter the dimension of the matrix: \"))\n",
    "    if (n % 2 == 1): break\n",
    "arr = [[0 for col in range(n)] for row in range(n)]   # list comprehension\n",
    "print(\"Filling up the matrix...\")\n",
    "for row in range(n):\n",
    "    for col in range(n):\n",
    "        if (row == col): arr[row][col] = 10\n",
    "print(\"Displaying the content of the matrix...\")\n",
    "for row in range(n):\n",
    "    for col in range(n):\n",
    "        print(\"%4d\"%arr[row][col], end = \"\")\n",
    "    print()\n",
    "print(\"End of the program...\")"
   ]
  },
  {
   "cell_type": "code",
   "execution_count": null,
   "id": "12150593-92b6-453c-9fba-04ddb8bbb7a5",
   "metadata": {},
   "outputs": [],
   "source": [
    "# array fill-up problem-4\n",
    "\n",
    "n = 5 (User given ODD integer)\n",
    "               col ->\n",
    "         0   1   2   3   4      row   col\n",
    "----------------------------   -----------\n",
    "^  0 |  10   0   0   0  20        0     4\n",
    "|  1 |   0  10   0  20   0        1     3 col => (n - row - 1)\n",
    "r  2 |   0   0  30   0   0        2     2 \n",
    "o  3 |   0  20   0  10   0        3     1\n",
    "w  4 |  20   0   0   0  10        4     0\n",
    "----------------------------   -----------"
   ]
  },
  {
   "cell_type": "code",
   "execution_count": 14,
   "id": "080f5037-2324-4fe0-b2b1-d2569cb006ab",
   "metadata": {},
   "outputs": [
    {
     "name": "stdin",
     "output_type": "stream",
     "text": [
      "Please enter the dimension of the matrix:  5\n"
     ]
    },
    {
     "name": "stdout",
     "output_type": "stream",
     "text": [
      "Filling up the matrix...\n",
      "Displaying the content of the matrix...\n",
      "  10   0   0   0  20\n",
      "   0  10   0  20   0\n",
      "   0   0  30   0   0\n",
      "   0  20   0  10   0\n",
      "  20   0   0   0  10\n",
      "End of the program...\n"
     ]
    }
   ],
   "source": [
    "while (True):\n",
    "    n = int(input(\"Please enter the dimension of the matrix: \"))\n",
    "    if (n % 2 == 1): break\n",
    "arr = [[0 for col in range(n)] for row in range(n)]   # list comprehension\n",
    "print(\"Filling up the matrix...\")\n",
    "for row in range(n):\n",
    "    arr[row][row] = 10\n",
    "    arr[row][n - row - 1] += 20\n",
    "print(\"Displaying the content of the matrix...\")\n",
    "for row in range(n):\n",
    "    for col in range(n):\n",
    "        print(\"%4d\"%arr[row][col], end = \"\")\n",
    "    print()\n",
    "print(\"End of the program...\")"
   ]
  },
  {
   "cell_type": "code",
   "execution_count": null,
   "id": "940d090d-641e-4225-b525-caedff717067",
   "metadata": {},
   "outputs": [],
   "source": [
    "# array fill-up problem-5\n",
    "\n",
    "n = 5 (User given ODD integer)\n",
    "               col ->\n",
    "         0   1   2   3   4\n",
    "----------------------------\n",
    "^  0 |   1   2   3   4   5\n",
    "|  1 |   2   2   3   4   5\n",
    "r  2 |   3   3   3   4   5 \n",
    "o  3 |   4   4   4   4   5\n",
    "w  4 |   5   5   5   5   5 \n",
    "----------------------------"
   ]
  },
  {
   "cell_type": "code",
   "execution_count": 20,
   "id": "58ee8c41-f287-4017-b2d6-623352a14905",
   "metadata": {},
   "outputs": [
    {
     "name": "stdin",
     "output_type": "stream",
     "text": [
      "Please enter the dimension of the matrix:  5\n"
     ]
    },
    {
     "name": "stdout",
     "output_type": "stream",
     "text": [
      "Filling up the matrix...\n",
      "Displaying the content of the matrix...\n",
      "   1   2   3   4   5\n",
      "   2   2   3   4   5\n",
      "   3   3   3   4   5\n",
      "   4   4   4   4   5\n",
      "   5   5   5   5   5\n",
      "End of the program...\n"
     ]
    }
   ],
   "source": [
    "while (True):\n",
    "    n = int(input(\"Please enter the dimension of the matrix: \"))\n",
    "    if (n % 2 == 1): break\n",
    "arr = [[0 for col in range(n)] for row in range(n)]   # list comprehension\n",
    "print(\"Filling up the matrix...\")\n",
    "for row in range(n):\n",
    "    for col in range(n):\n",
    "        # arr[row][col] = 1 + (row if (row >= col) else col)  # 1 + (row >= col? row: col);\n",
    "        arr[row][col] = 1 + max(row, col)\n",
    "print(\"Displaying the content of the matrix...\")\n",
    "for row in range(n):\n",
    "    for col in range(n):\n",
    "        print(\"%4d\"%arr[row][col], end = \"\")\n",
    "    print()\n",
    "print(\"End of the program...\")"
   ]
  },
  {
   "cell_type": "code",
   "execution_count": null,
   "id": "00c1a085-0fe1-4f64-a78a-e5cd2e8d59c0",
   "metadata": {},
   "outputs": [],
   "source": [
    "# array fill-up problem-6\n",
    "n = 9 (User given ODD integer)   m = (n + 1) // 2 = 5\n",
    "print the following pattern without using array\n",
    "               col ->\n",
    "         0   1   2   3   4   5   6   7   8    row   ll   ul\n",
    "--------------------------------------------  --------------\n",
    "^  0 |   1   1   1   1   1   1   1   1   1      0    0    8         (i, n, m)\n",
    "|  1 |   1   2   2   2   2   2   2   2   1      1    1    7   ll => row\n",
    "r  2 |   1   2   3   3   3   3   3   2   1      2    2    6   ul => (n - row - 1)\n",
    "o  3 |   1   2   3   4   4   4   3   2   1      3    3    5\n",
    "w  4 |   1   2   3   4   5   4   3   2   1    __4____4____4__\n",
    "   5 |   1   2   3   4   4   4   3   2   1      5    3    5\n",
    "   6 |   1   2   3   3   3   3   3   2   1      6    2    6   ll => (n - row - 1)\n",
    "   7 |   1   2   2   2   2   2   2   2   1      7    1    7   ul => row\n",
    "   8 |   1   1   1   1   1   1   1   1   1      8    0    8\n",
    "--------------------------------------------  --------------"
   ]
  },
  {
   "cell_type": "code",
   "execution_count": 27,
   "id": "19f0b811-e0e7-4ead-aa7a-f0b84ef867d4",
   "metadata": {},
   "outputs": [
    {
     "name": "stdin",
     "output_type": "stream",
     "text": [
      "Please enter the dimension of the matrix:  11\n"
     ]
    },
    {
     "name": "stdout",
     "output_type": "stream",
     "text": [
      "Printing the the matrix...\n",
      "   1   1   1   1   1   1   1   1   1   1   1\n",
      "   1   2   2   2   2   2   2   2   2   2   1\n",
      "   1   2   3   3   3   3   3   3   3   2   1\n",
      "   1   2   3   4   4   4   4   4   3   2   1\n",
      "   1   2   3   4   5   5   5   4   3   2   1\n",
      "   1   2   3   4   5   6   5   4   3   2   1\n",
      "   1   2   3   4   5   5   5   4   3   2   1\n",
      "   1   2   3   4   4   4   4   4   3   2   1\n",
      "   1   2   3   3   3   3   3   3   3   2   1\n",
      "   1   2   2   2   2   2   2   2   2   2   1\n",
      "   1   1   1   1   1   1   1   1   1   1   1\n",
      "End of the pattern printing...\n"
     ]
    }
   ],
   "source": [
    "while (True):\n",
    "    n = int(input(\"Please enter the dimension of the matrix: \"))\n",
    "    if (n % 2 == 1): break\n",
    "m = (n + 1) // 2\n",
    "print(\"Printing the the matrix...\")\n",
    "for row in range(n):\n",
    "    term = 1\n",
    "    if (row <= m): ll = row; ul = (n - row - 1)\n",
    "    else: ll = (n - row - 1); ul = row\n",
    "    for col in range(n):\n",
    "        print(\"%4d\"%term, end = \"\")\n",
    "        if (col < ll): term += 1\n",
    "        if (col >= ul): term -= 1\n",
    "    print(\"\")\n",
    "print(\"End of the pattern printing...\")"
   ]
  },
  {
   "cell_type": "code",
   "execution_count": 29,
   "id": "0a5a1302-aeb4-47e2-8fcd-beeffdcbf841",
   "metadata": {},
   "outputs": [],
   "source": [
    "# in C language\n",
    "#include<stdio.h>\n",
    "int main() {\n",
    "    int n = 0, row, col, term, m, ll, ul;\n",
    "    while(n % 2 == 0) {\n",
    "        printf(\"\\nPlease enter ODD number of layers:\");\n",
    "        scanf(\"%d\", &n);\n",
    "    }\n",
    "    m = (n + 1) / 2;\n",
    "    printf(\"\\nPrinting the the matrix...\\n\\n\");\n",
    "    for (row = 0; row < n; row++) {\n",
    "        term = 1;\n",
    "        if (row <= m) {ll = row; ul = (n - row - 1);}\n",
    "        else {ll = (n - row - 1); ul = row;}\n",
    "        for (col = 0; col < n; col++) {\n",
    "            printf(\"%4d\", term);\n",
    "            if (col < ll) term += 1;\n",
    "            if (col >= ul) term -= 1;\n",
    "        }\n",
    "        printf(\"\\n\");\n",
    "    }\n",
    "    printf(\"\\nEnd of the pattern printing...\\n\");\n",
    "}"
   ]
  },
  {
   "cell_type": "code",
   "execution_count": null,
   "id": "f7c72a3a-0172-4c88-b3fb-b583c43dd735",
   "metadata": {},
   "outputs": [],
   "source": [
    "# in Java language\n",
    "import java.util.Scanner;\n",
    "\n",
    "public class Main {\n",
    "    public static void main(String args[]) {\n",
    "        int n = 0, row, col, term, m, ll, ul;\n",
    "        Scanner sc = new Scanner(System.in);\n",
    "        while(n % 2 == 0) {\n",
    "            System.out.print(\"Please enter ODD number of layers:\");\n",
    "            n = sc.nextInt();\n",
    "        }\n",
    "        m = (n + 1) / 2;\n",
    "        System.out.println(\"\\nPrinting the the matrix...\");\n",
    "        for (row = 0; row < n; row++) {\n",
    "            term = 1;\n",
    "            if (row <= m) {ll = row; ul = (n - row - 1);}\n",
    "            else {ll = (n - row - 1); ul = row;}\n",
    "            for (col = 0; col < n; col++) {\n",
    "                System.out.printf(\"%4d\", term);\n",
    "                if (col < ll) term += 1;\n",
    "                if (col >= ul) term -= 1;\n",
    "            }\n",
    "            System.out.println(\"\");\n",
    "        }\n",
    "        System.out.println(\"\\nEnd of the pattern printing...\\n\");\n",
    "    }\n",
    "}"
   ]
  },
  {
   "cell_type": "code",
   "execution_count": null,
   "id": "061f85b3-bc38-4b9b-bc5a-b82249247ae1",
   "metadata": {},
   "outputs": [],
   "source": [
    "# array fill-up problem-7\n",
    "# MAGIC SQAURE\n",
    "Form and print a Magic Square with dimension nxn, where n is one ODD positive integer given by the user.\n",
    "Fill up the Magic Sqaure with numbers 1 to n^2 using them once in such a way that all row-wise, col-wise\n",
    "and both major diagonal-wise sums are equal to each other. The matrix thus obtained is called Magic Square.\n",
    "And sum thus obtained is called Magic Sum.     \n",
    "                                  *   *   *     r => row, c => col,   r -= 1; c += 1,   r = 0; c = n // 2\n",
    "n = 5 (Odd Integer from user)    **  **  **     \n",
    "                                * * * * * * *   1) Out of Range\n",
    "       0   1   2   3   4       *  **  **  **  2/3.  a) Row-wise Folding: if (r == -1) then r = (n - 1)\n",
    "--------------------------    *   *   *   *   3/2. b) Col-wise Folding: if (c == n) then c = 0\n",
    " 0 |  17  24   1   8  15                        1. c) Corner Logic: if (r == -1 and c == n) then r += 2 and c -= 1\n",
    " 1 |  23   5   7  14  16                        2) Pre-Ocupied\n",
    " 2 |   4   6  13  20  22                        4. a) if (arr[r][c] != 0) then r += 2 and c -= 1\n",
    " 3 |  10  12  19  21   3        n   msum\n",
    " 4 |  11  18  25   2   9      ------------\n",
    "--------------------------      3   15\n",
    "Magic Sum = 65                  5   65\n",
    "                                7   175\n",
    "                                n   ????\n",
    "                              ------------"
   ]
  },
  {
   "cell_type": "code",
   "execution_count": 42,
   "id": "126bd6e5-9cd4-4169-b76a-edadb14cf6d3",
   "metadata": {},
   "outputs": [
    {
     "name": "stdin",
     "output_type": "stream",
     "text": [
      "Please enter the dimension of the matrix:  5\n"
     ]
    },
    {
     "name": "stdout",
     "output_type": "stream",
     "text": [
      "So pre-calculated Magic Sum is 65\n",
      "Initializing the martix...\n",
      "Displaying the content of the martix...\n",
      "  17  24   1   8  15\n",
      "  23   5   7  14  16\n",
      "   4   6  13  20  22\n",
      "  10  12  19  21   3\n",
      "  11  18  25   2   9\n",
      "So post-calculated Magic Sum is 65\n",
      "End of the program...\n"
     ]
    }
   ],
   "source": [
    "while (True):\n",
    "    n = int(input(\"Please enter the dimension of the matrix: \"))\n",
    "    if (n % 2 == 1): break\n",
    "arr = [[0 for r in range(n)] for c in range(n)]\n",
    "r = 0; c = n // 2; msum = 0\n",
    "print (\"So pre-calculated Magic Sum is\", n * (1 + n*n) // 2)\n",
    "print(\"Initializing the martix...\")\n",
    "for i in range(1, n*n + 1):\n",
    "    arr[r][c] = i\n",
    "    if (r == c): msum += arr[r][c]\n",
    "    r -= 1; c += 1\n",
    "    if (r == -1 and c == n): r += 2; c -= 1\n",
    "    elif (r == -1): r = (n - 1)\n",
    "    elif (c == n): c = 0\n",
    "    elif (arr[r][c] != 0): r += 2; c -= 1\n",
    "print(\"Displaying the content of the martix...\")\n",
    "for r in range(0, n):\n",
    "    for c in range(0, n):\n",
    "        print(\"%4d\"%arr[r][c], end = \"\")\n",
    "    print(\"\")\n",
    "print (\"So post-calculated Magic Sum is\", msum)\n",
    "print(\"End of the program...\")"
   ]
  },
  {
   "cell_type": "code",
   "execution_count": null,
   "id": "9d3aa7f2-7024-4ac1-a158-086347e880e5",
   "metadata": {},
   "outputs": [],
   "source": [
    "# array fill-up problem-8\n",
    "# SPIRAL FIll Up\n",
    "Fill up a Matrix with dimension nxn (where n is a positive integer number supplied by the user) with \n",
    "numbers ranging from 1 to n*n in a clock-wise manner starting from top-left corner of the matrix.\n",
    "\n",
    "n = 5 (User given integer number)  r, c => row and column numbers\n",
    "                                   rr, cc =>  row and column number increments/decrements (0, 1, -1)\n",
    "      0   1   2   3   4            r = r + rr, c = c + cc\n",
    "--------------------------     rr   cc      tt = rr       if (c == n or r == n or c == -1 or arr[r][c] != 0)\n",
    " 0 |  1   2   3   4   5      -----------    rr = cc\n",
    " 1 | 16  17  18  19   6         0    1      cc = -tt\n",
    " 2 | 15  24  25  20   7         1    0\n",
    " 3 | 14  23  22  21   8         0   -1\n",
    " 4 | 13  12  11  10   9        -1    0\n",
    "--------------------------   -----------\n",
    "                                0    1"
   ]
  },
  {
   "cell_type": "code",
   "execution_count": 45,
   "id": "0c2c182c-6d3e-44c3-9e7b-70732ff7959a",
   "metadata": {},
   "outputs": [
    {
     "name": "stdin",
     "output_type": "stream",
     "text": [
      "Please enter the dimension of the matrix:  6\n"
     ]
    },
    {
     "name": "stdout",
     "output_type": "stream",
     "text": [
      "Initializing the martix...\n",
      "Displaying the content of the martix...\n",
      "   1   2   3   4   5   6\n",
      "  20  21  22  23  24   7\n",
      "  19  32  33  34  25   8\n",
      "  18  31  36  35  26   9\n",
      "  17  30  29  28  27  10\n",
      "  16  15  14  13  12  11\n",
      "So post-calculated Magic Sum is 65\n",
      "End of the program...\n"
     ]
    }
   ],
   "source": [
    "n = int(input(\"Please enter the dimension of the matrix: \"))\n",
    "arr = [[0 for r in range(n)] for c in range(n)]\n",
    "r = 0; c = 0; rr = 0; cc = 1\n",
    "print(\"Initializing the martix...\")\n",
    "for i in range(1, n*n + 1):\n",
    "    arr[r][c] = i\n",
    "    tr = r + rr; tc = c + cc\n",
    "    if (tc == n or tr == n or tc == -1 or arr[tr][tc] != 0):\n",
    "        tt = rr; rr = cc; cc = -tt\n",
    "    r = r + rr; c = c + cc\n",
    "print(\"Displaying the content of the martix...\")\n",
    "for r in range(0, n):\n",
    "    for c in range(0, n):\n",
    "        print(\"%4d\"%arr[r][c], end = \"\")\n",
    "    print(\"\")\n",
    "print (\"So post-calculated Magic Sum is\", msum)\n",
    "print(\"End of the program...\")"
   ]
  },
  {
   "cell_type": "code",
   "execution_count": 47,
   "id": "c381f9e1-2982-48bd-9092-59efc190b229",
   "metadata": {},
   "outputs": [
    {
     "name": "stdin",
     "output_type": "stream",
     "text": [
      "Please enter a positive integer number:  3256\n"
     ]
    },
    {
     "name": "stdout",
     "output_type": "stream",
     "text": [
      "So the current last_digit = 6 and total = 6...\n",
      "So the current last_digit = 5 and total = 11...\n",
      "So the current last_digit = 2 and total = 13...\n",
      "So the current last_digit = 3 and total = 16...\n",
      "So sum of all digits of the given number is 16\n",
      "End of the program...\n"
     ]
    }
   ],
   "source": [
    "# Sum of all digits of a given number\n",
    "num = int(input(\"Please enter a positive integer number: \"))\n",
    "total = 0\n",
    "while (num != 0):\n",
    "    last_digit = num % 10\n",
    "    total = total + last_digit\n",
    "    print(f\"So the current last_digit = {last_digit} and total = {total}...\")\n",
    "    num = num // 10\n",
    "print (\"So sum of all digits of the given number is\", total)\n",
    "print(\"End of the program...\")"
   ]
  },
  {
   "cell_type": "code",
   "execution_count": null,
   "id": "d81e81d4-78eb-4db6-9489-e35481a0aca1",
   "metadata": {},
   "outputs": [],
   "source": [
    "# Digital Root of a user given number\n",
    "Take an integer from the user as input and find the digital root of the given number.\n",
    "if n = 132 => 1 + 3 + 2 = 6 (Digital Root)\n",
    "if n = 109 => 1 + 0 + 9 = 10 => 1 + 0 = 1 (Digital Root)\n",
    "if n = 973 => 9 + 7 + 3 = 19 => 1 + 9 = 10 => 1 + 0 = 1 (Digital Root)"
   ]
  },
  {
   "cell_type": "code",
   "execution_count": 49,
   "id": "1d609d45-8ed2-45fe-a9f2-424bdbe25535",
   "metadata": {},
   "outputs": [
    {
     "name": "stdin",
     "output_type": "stream",
     "text": [
      "Please enter a positive integer number:  973\n"
     ]
    },
    {
     "name": "stdout",
     "output_type": "stream",
     "text": [
      "So the current last_digit = 3 and total = 3...\n",
      "So the current last_digit = 7 and total = 10...\n",
      "So the current last_digit = 9 and total = 19...\n",
      "Going again with 19\n",
      "So the current last_digit = 9 and total = 9...\n",
      "So the current last_digit = 1 and total = 10...\n",
      "Going again with 10\n",
      "So the current last_digit = 0 and total = 0...\n",
      "So the current last_digit = 1 and total = 1...\n",
      "So the Digital Root of the given number is 1\n",
      "End of the program...\n"
     ]
    }
   ],
   "source": [
    "num = int(input(\"Please enter a positive integer number: \"))\n",
    "total = 0\n",
    "while (num != 0):\n",
    "    last_digit = num % 10\n",
    "    total = total + last_digit\n",
    "    print(f\"So the current last_digit = {last_digit} and total = {total}...\")\n",
    "    num = num // 10\n",
    "    if (num == 0 and total > 9):\n",
    "        num = total\n",
    "        total = 0\n",
    "        print (\"Going again with\", num)\n",
    "print (\"So the Digital Root of the given number is\", total)\n",
    "print(\"End of the program...\")"
   ]
  },
  {
   "cell_type": "code",
   "execution_count": null,
   "id": "053b5d82-ad86-4b51-b77f-de43939d7927",
   "metadata": {},
   "outputs": [],
   "source": [
    "Link: https://www.codechef.com/problems/SECLAR\n",
    "\n",
    "read num1, num2, num3\n",
    "out of num1 and num2 whichever is maximum put in max1 and other number in max2\n",
    "\n",
    "                  max1       max2\n",
    "                  700        400\n",
    "    num3 =   900                        max1 = 700\n",
    "    num3 =              500             num3 = 500 \n",
    "    num3 =                        100   max2 = 400"
   ]
  },
  {
   "cell_type": "code",
   "execution_count": null,
   "id": "bcb1e599-9765-414f-bad2-36c9cfd7086c",
   "metadata": {},
   "outputs": [],
   "source": [
    "Pseudocode:\n",
    "input a, b, c\n",
    "if (a > b) m1 = a, m2 = b\n",
    "else m1 = b, m2 = a\n",
    "if (c > m1) print m1\n",
    "else if (c > m2) print c\n",
    "else print m2\n",
    "end"
   ]
  },
  {
   "cell_type": "code",
   "execution_count": 52,
   "id": "e89b576c-923f-425a-837f-d04c808b5dcb",
   "metadata": {},
   "outputs": [
    {
     "name": "stdin",
     "output_type": "stream",
     "text": [
      " 200\n",
      " 100\n",
      " 300\n"
     ]
    },
    {
     "name": "stdout",
     "output_type": "stream",
     "text": [
      "200\n"
     ]
    }
   ],
   "source": [
    "# Python Implementation\n",
    "num1 = int(input())\n",
    "num2 = int(input())\n",
    "num3 = int(input())\n",
    "if (num1 >= num2): max1 = num1; max2 = num2\n",
    "else: max1 = num2; max2 = num1\n",
    "if num3 > max1: smax = max1\n",
    "elif num3 > max2: smax = num3\n",
    "else: smax = max2\n",
    "print (smax)"
   ]
  },
  {
   "cell_type": "code",
   "execution_count": null,
   "id": "0b2b568c-29a6-44ce-949f-2f140506748c",
   "metadata": {},
   "outputs": [],
   "source": [
    "# C++ Implementation\n",
    "#include <bits/stdc++.h>\n",
    "using namespace std;\n",
    "\n",
    "int main() {\n",
    "\tint a,b,c,max1,max2;\n",
    "\tcin >> a;\n",
    "\tcin >> b;\n",
    "\tcin >> c;\n",
    "    if (a > b) {max1 = a; max2 = b;}\n",
    "    else {max1 = b; max2 = a;}\n",
    "    if (c > max1) cout << max1;\n",
    "    else if (c > max2) cout << c;\n",
    "    else cout << max2;\n",
    "    \n",
    "    return 0;\n",
    "}"
   ]
  },
  {
   "cell_type": "code",
   "execution_count": null,
   "id": "a4632b62-2987-4ce0-aca4-a19a55720e9e",
   "metadata": {},
   "outputs": [],
   "source": [
    "Link: https://www.codechef.com/YTPP001/problems/CLODIV\n",
    "Title: Closest Divisor"
   ]
  },
  {
   "cell_type": "code",
   "execution_count": null,
   "id": "2bc9c7fd-c40f-4f65-8168-9eb0a9b4edf1",
   "metadata": {},
   "outputs": [],
   "source": [
    "# cook your dish here\n",
    "a = int(input())\n",
    "b = int(input())\n",
    "print (a - (a % b))"
   ]
  },
  {
   "cell_type": "code",
   "execution_count": null,
   "id": "53fc1e4e-bf74-4223-9ff8-4708c596b911",
   "metadata": {},
   "outputs": [],
   "source": [
    "Link: https://www.codechef.com/YTPP001/problems/EOMUL"
   ]
  },
  {
   "cell_type": "code",
   "execution_count": null,
   "id": "9abe709a-32bc-425c-b967-0d46714ea422",
   "metadata": {},
   "outputs": [],
   "source": [
    "# C++ Implementation\n",
    "#include <bits/stdc++.h>\n",
    "using namespace std;\n",
    "\n",
    "int main() {\n",
    "\tint n;\n",
    "\tcin >> n;\n",
    "\tif (n % 3 != 0) cout << -1;\n",
    "\telse if ((n / 3) % 2 == 0) cout << 0;\n",
    "\telse cout << 1;\n",
    "}"
   ]
  },
  {
   "cell_type": "code",
   "execution_count": null,
   "id": "a3d45a70-94b1-4ec4-bbdc-3568f01a9ab3",
   "metadata": {},
   "outputs": [],
   "source": [
    "# Python Implementation\n",
    "n = int(input())\n",
    "if (n % 3 != 0): print (-1)\n",
    "elif ((n // 3) % 2 == 0): print (0)\n",
    "else: print (1)"
   ]
  },
  {
   "cell_type": "code",
   "execution_count": null,
   "id": "0a108304-4659-4e1d-9ddd-b39df57875ec",
   "metadata": {},
   "outputs": [],
   "source": [
    "https://www.codechef.com/YTPP001/problems/LSTSEV"
   ]
  },
  {
   "cell_type": "code",
   "execution_count": null,
   "id": "fc9cb226-e30c-4c8a-bb46-92bd61e46207",
   "metadata": {},
   "outputs": [],
   "source": [
    "# Python Implementation\n",
    "n = int(input())\n",
    "if n < 10:\n",
    "    print(0)\n",
    "else:\n",
    "    sdigit = (n // 10) % 10\n",
    "    if sdigit == 7:\n",
    "        print(1)\n",
    "    else:\n",
    "        print(0)"
   ]
  },
  {
   "cell_type": "code",
   "execution_count": null,
   "id": "76f7dede-bf77-413d-bfde-c18209beed26",
   "metadata": {},
   "outputs": [],
   "source": [
    "Link: https://www.codechef.com/YTPP001/problems/VALTRI\n",
    "Title: Raju and His Trip"
   ]
  },
  {
   "cell_type": "code",
   "execution_count": null,
   "id": "dec34190-d5aa-4fe1-8560-c15b0cc472be",
   "metadata": {},
   "outputs": [],
   "source": [
    "# Python Implementation\n",
    "n = int(input()) \n",
    "if (n % 5 == 0 or n % 6 == 0):\n",
    "    print('YES')\n",
    "else:\n",
    "    print('NO')"
   ]
  },
  {
   "cell_type": "code",
   "execution_count": null,
   "id": "3319992e-4c2b-4b70-a994-f3b49ce92318",
   "metadata": {},
   "outputs": [],
   "source": [
    "Link: https://www.codechef.com/YTPP001/problems/NUMPLIN\n",
    "Title: Is Palindrome"
   ]
  },
  {
   "cell_type": "code",
   "execution_count": null,
   "id": "e4bb24b7-2401-46a2-a7fe-84a8ec029284",
   "metadata": {},
   "outputs": [],
   "source": []
  }
 ],
 "metadata": {
  "kernelspec": {
   "display_name": "Python 3 (ipykernel)",
   "language": "python",
   "name": "python3"
  },
  "language_info": {
   "codemirror_mode": {
    "name": "ipython",
    "version": 3
   },
   "file_extension": ".py",
   "mimetype": "text/x-python",
   "name": "python",
   "nbconvert_exporter": "python",
   "pygments_lexer": "ipython3",
   "version": "3.11.7"
  }
 },
 "nbformat": 4,
 "nbformat_minor": 5
}
