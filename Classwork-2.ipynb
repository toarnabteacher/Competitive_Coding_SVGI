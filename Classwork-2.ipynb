{
 "cells": [
  {
   "cell_type": "markdown",
   "id": "8e0e82e8-56d9-4498-8fc8-5ec90b630cee",
   "metadata": {},
   "source": [
    "# **Competitive Coding with Python/C++/Java**"
   ]
  },
  {
   "cell_type": "markdown",
   "id": "9b7dc3a0-a683-4220-aba5-20c67d58720b",
   "metadata": {},
   "source": [
    "## **Array Fill-up Problem Solving:**"
   ]
  },
  {
   "cell_type": "code",
   "execution_count": null,
   "id": "1e03e99c-a977-4d07-a08c-688ea0d9f227",
   "metadata": {},
   "outputs": [],
   "source": [
    "# array fill-up problem-1\n",
    "n = 5 (User given integer)\n",
    "               col ->\n",
    "         0   1   2   3   4\n",
    "----------------------------\n",
    "^  0 |   1   2   3   4   5  0 + (col + 1)         (n, row, col)\n",
    "|  1 |   6   7   8   9  10  5 + (col + 1)  data => row * n + col + 1\n",
    "r  2 |  11  12  13  14  15  10 + (col + 1)\n",
    "o  3 |  16  17  18  19  20  15 + (col + 1)\n",
    "w  4 |  21  22  23  24  25  20 + (col + 1)\n",
    "----------------------------"
   ]
  },
  {
   "cell_type": "code",
   "execution_count": 4,
   "id": "a0c57881-7e16-42b3-b306-ab07e1428b71",
   "metadata": {},
   "outputs": [
    {
     "name": "stdin",
     "output_type": "stream",
     "text": [
      "Please enter the dimension of the matrix:  5\n"
     ]
    },
    {
     "name": "stdout",
     "output_type": "stream",
     "text": [
      "Filling up the matrix...\n",
      "Displaying the content of the matrix...\n",
      "   1   2   3   4   5\n",
      "   6   7   8   9  10\n",
      "  11  12  13  14  15\n",
      "  16  17  18  19  20\n",
      "  21  22  23  24  25\n",
      "End of the program...\n"
     ]
    }
   ],
   "source": [
    "n = int(input(\"Please enter the dimension of the matrix: \"))\n",
    "arr = [[0 for col in range(n)] for row in range(n)]   # list comprehension\n",
    "print(\"Filling up the matrix...\")\n",
    "for row in range(n):\n",
    "    for col in range(n):\n",
    "        arr[row][col] = row * n + col + 1\n",
    "print(\"Displaying the content of the matrix...\")\n",
    "for row in range(n):\n",
    "    for col in range(n):\n",
    "        print(\"%4d\"%arr[row][col], end = \"\")\n",
    "    print()\n",
    "print(\"End of the program...\")"
   ]
  },
  {
   "cell_type": "code",
   "execution_count": null,
   "id": "c82e6db4-6f7b-4f49-b5a9-8ed846fc7ca6",
   "metadata": {},
   "outputs": [],
   "source": [
    "# array fill-up problem-2\n",
    "\n",
    "n = 5 (User given integer)\n",
    "               col ->\n",
    "         0   1   2   3   4\n",
    "----------------------------\n",
    "^  0 |   1   6  11  16  21           (n, row, col)\n",
    "|  1 |   2   7  12  17  22   data => col * n + row + 1\n",
    "r  2 |   3   8  13  18  23 \n",
    "o  3 |   4   9  14  19  24\n",
    "w  4 |   5  10  15  20  25 \n",
    "----------------------------"
   ]
  },
  {
   "cell_type": "code",
   "execution_count": 7,
   "id": "64711844-1d54-4ff1-afe1-77462b8332de",
   "metadata": {},
   "outputs": [
    {
     "name": "stdin",
     "output_type": "stream",
     "text": [
      "Please enter the dimension of the matrix:  5\n"
     ]
    },
    {
     "name": "stdout",
     "output_type": "stream",
     "text": [
      "Filling up the matrix...\n",
      "Displaying the content of the matrix...\n",
      "   1   6  11  16  21\n",
      "   2   7  12  17  22\n",
      "   3   8  13  18  23\n",
      "   4   9  14  19  24\n",
      "   5  10  15  20  25\n",
      "End of the program...\n"
     ]
    }
   ],
   "source": [
    "n = int(input(\"Please enter the dimension of the matrix: \"))\n",
    "arr = [[0 for col in range(n)] for row in range(n)]   # list comprehension\n",
    "print(\"Filling up the matrix...\")\n",
    "for row in range(n):\n",
    "    for col in range(n):\n",
    "        arr[row][col] = col * n + row + 1\n",
    "print(\"Displaying the content of the matrix...\")\n",
    "for row in range(n):\n",
    "    for col in range(n):\n",
    "        print(\"%4d\"%arr[row][col], end = \"\")\n",
    "    print()\n",
    "print(\"End of the program...\")"
   ]
  },
  {
   "cell_type": "code",
   "execution_count": null,
   "id": "1aae5820-5e89-48be-8ffd-f5ed6cd15600",
   "metadata": {},
   "outputs": [],
   "source": [
    "# array fill-up problem-3\n",
    "\n",
    "n = 5 (User given ODD integer)\n",
    "               col ->\n",
    "         0   1   2   3   4\n",
    "----------------------------\n",
    "^  0 |  10   0   0   0   0           (n, row, col)\n",
    "|  1 |   0  10   0   0   0   data => ???\n",
    "r  2 |   0   0  10   0   0 \n",
    "o  3 |   0   0   0  10   0\n",
    "w  4 |   0   0   0   0  10 \n",
    "----------------------------"
   ]
  },
  {
   "cell_type": "code",
   "execution_count": 9,
   "id": "3f64933f-c2db-42c8-9fe5-861c11334ecf",
   "metadata": {},
   "outputs": [
    {
     "name": "stdin",
     "output_type": "stream",
     "text": [
      "Please enter the dimension of the matrix:  10\n",
      "Please enter the dimension of the matrix:  20\n",
      "Please enter the dimension of the matrix:  5\n"
     ]
    },
    {
     "name": "stdout",
     "output_type": "stream",
     "text": [
      "Filling up the matrix...\n",
      "Displaying the content of the matrix...\n",
      "  10   0   0   0   0\n",
      "   0  10   0   0   0\n",
      "   0   0  10   0   0\n",
      "   0   0   0  10   0\n",
      "   0   0   0   0  10\n",
      "End of the program...\n"
     ]
    }
   ],
   "source": [
    "while (True):\n",
    "    n = int(input(\"Please enter the dimension of the matrix: \"))\n",
    "    if (n % 2 == 1): break\n",
    "arr = [[0 for col in range(n)] for row in range(n)]   # list comprehension\n",
    "print(\"Filling up the matrix...\")\n",
    "for row in range(n):\n",
    "    for col in range(n):\n",
    "        if (row == col): arr[row][col] = 10\n",
    "print(\"Displaying the content of the matrix...\")\n",
    "for row in range(n):\n",
    "    for col in range(n):\n",
    "        print(\"%4d\"%arr[row][col], end = \"\")\n",
    "    print()\n",
    "print(\"End of the program...\")"
   ]
  },
  {
   "cell_type": "code",
   "execution_count": null,
   "id": "12150593-92b6-453c-9fba-04ddb8bbb7a5",
   "metadata": {},
   "outputs": [],
   "source": [
    "# array fill-up problem-4\n",
    "\n",
    "n = 5 (User given ODD integer)\n",
    "               col ->\n",
    "         0   1   2   3   4      row   col\n",
    "----------------------------   -----------\n",
    "^  0 |  10   0   0   0  20        0     4\n",
    "|  1 |   0  10   0  20   0        1     3 col => (n - row - 1)\n",
    "r  2 |   0   0  30   0   0        2     2 \n",
    "o  3 |   0  20   0  10   0        3     1\n",
    "w  4 |  20   0   0   0  10        4     0\n",
    "----------------------------   -----------"
   ]
  },
  {
   "cell_type": "code",
   "execution_count": 14,
   "id": "080f5037-2324-4fe0-b2b1-d2569cb006ab",
   "metadata": {},
   "outputs": [
    {
     "name": "stdin",
     "output_type": "stream",
     "text": [
      "Please enter the dimension of the matrix:  5\n"
     ]
    },
    {
     "name": "stdout",
     "output_type": "stream",
     "text": [
      "Filling up the matrix...\n",
      "Displaying the content of the matrix...\n",
      "  10   0   0   0  20\n",
      "   0  10   0  20   0\n",
      "   0   0  30   0   0\n",
      "   0  20   0  10   0\n",
      "  20   0   0   0  10\n",
      "End of the program...\n"
     ]
    }
   ],
   "source": [
    "while (True):\n",
    "    n = int(input(\"Please enter the dimension of the matrix: \"))\n",
    "    if (n % 2 == 1): break\n",
    "arr = [[0 for col in range(n)] for row in range(n)]   # list comprehension\n",
    "print(\"Filling up the matrix...\")\n",
    "for row in range(n):\n",
    "    arr[row][row] = 10\n",
    "    arr[row][n - row - 1] += 20\n",
    "print(\"Displaying the content of the matrix...\")\n",
    "for row in range(n):\n",
    "    for col in range(n):\n",
    "        print(\"%4d\"%arr[row][col], end = \"\")\n",
    "    print()\n",
    "print(\"End of the program...\")"
   ]
  },
  {
   "cell_type": "code",
   "execution_count": null,
   "id": "940d090d-641e-4225-b525-caedff717067",
   "metadata": {},
   "outputs": [],
   "source": [
    "# array fill-up problem-5\n",
    "\n",
    "n = 5 (User given ODD integer)\n",
    "               col ->\n",
    "         0   1   2   3   4\n",
    "----------------------------\n",
    "^  0 |   1   2   3   4   5\n",
    "|  1 |   2   2   3   4   5\n",
    "r  2 |   3   3   3   4   5 \n",
    "o  3 |   4   4   4   4   5\n",
    "w  4 |   5   5   5   5   5 \n",
    "----------------------------"
   ]
  },
  {
   "cell_type": "code",
   "execution_count": 20,
   "id": "58ee8c41-f287-4017-b2d6-623352a14905",
   "metadata": {},
   "outputs": [
    {
     "name": "stdin",
     "output_type": "stream",
     "text": [
      "Please enter the dimension of the matrix:  5\n"
     ]
    },
    {
     "name": "stdout",
     "output_type": "stream",
     "text": [
      "Filling up the matrix...\n",
      "Displaying the content of the matrix...\n",
      "   1   2   3   4   5\n",
      "   2   2   3   4   5\n",
      "   3   3   3   4   5\n",
      "   4   4   4   4   5\n",
      "   5   5   5   5   5\n",
      "End of the program...\n"
     ]
    }
   ],
   "source": [
    "while (True):\n",
    "    n = int(input(\"Please enter the dimension of the matrix: \"))\n",
    "    if (n % 2 == 1): break\n",
    "arr = [[0 for col in range(n)] for row in range(n)]   # list comprehension\n",
    "print(\"Filling up the matrix...\")\n",
    "for row in range(n):\n",
    "    for col in range(n):\n",
    "        # arr[row][col] = 1 + (row if (row >= col) else col)  # 1 + (row >= col? row: col);\n",
    "        arr[row][col] = 1 + max(row, col)\n",
    "print(\"Displaying the content of the matrix...\")\n",
    "for row in range(n):\n",
    "    for col in range(n):\n",
    "        print(\"%4d\"%arr[row][col], end = \"\")\n",
    "    print()\n",
    "print(\"End of the program...\")"
   ]
  },
  {
   "cell_type": "code",
   "execution_count": null,
   "id": "00c1a085-0fe1-4f64-a78a-e5cd2e8d59c0",
   "metadata": {},
   "outputs": [],
   "source": [
    "# array fill-up problem-6\n",
    "n = 9 (User given ODD integer)   m = (n + 1) // 2 = 5\n",
    "print the following pattern without using array\n",
    "               col ->\n",
    "         0   1   2   3   4   5   6   7   8    row   ll   ul\n",
    "--------------------------------------------  --------------\n",
    "^  0 |   1   1   1   1   1   1   1   1   1      0    0    8         (i, n, m)\n",
    "|  1 |   1   2   2   2   2   2   2   2   1      1    1    7   ll => row\n",
    "r  2 |   1   2   3   3   3   3   3   2   1      2    2    6   ul => (n - row - 1)\n",
    "o  3 |   1   2   3   4   4   4   3   2   1      3    3    5\n",
    "w  4 |   1   2   3   4   5   4   3   2   1    __4____4____4__\n",
    "   5 |   1   2   3   4   4   4   3   2   1      5    3    5\n",
    "   6 |   1   2   3   3   3   3   3   2   1      6    2    6   ll => (n - row - 1)\n",
    "   7 |   1   2   2   2   2   2   2   2   1      7    1    7   ul => row\n",
    "   8 |   1   1   1   1   1   1   1   1   1      8    0    8\n",
    "--------------------------------------------  --------------"
   ]
  },
  {
   "cell_type": "code",
   "execution_count": 27,
   "id": "19f0b811-e0e7-4ead-aa7a-f0b84ef867d4",
   "metadata": {},
   "outputs": [
    {
     "name": "stdin",
     "output_type": "stream",
     "text": [
      "Please enter the dimension of the matrix:  11\n"
     ]
    },
    {
     "name": "stdout",
     "output_type": "stream",
     "text": [
      "Printing the the matrix...\n",
      "   1   1   1   1   1   1   1   1   1   1   1\n",
      "   1   2   2   2   2   2   2   2   2   2   1\n",
      "   1   2   3   3   3   3   3   3   3   2   1\n",
      "   1   2   3   4   4   4   4   4   3   2   1\n",
      "   1   2   3   4   5   5   5   4   3   2   1\n",
      "   1   2   3   4   5   6   5   4   3   2   1\n",
      "   1   2   3   4   5   5   5   4   3   2   1\n",
      "   1   2   3   4   4   4   4   4   3   2   1\n",
      "   1   2   3   3   3   3   3   3   3   2   1\n",
      "   1   2   2   2   2   2   2   2   2   2   1\n",
      "   1   1   1   1   1   1   1   1   1   1   1\n",
      "End of the pattern printing...\n"
     ]
    }
   ],
   "source": [
    "while (True):\n",
    "    n = int(input(\"Please enter the dimension of the matrix: \"))\n",
    "    if (n % 2 == 1): break\n",
    "m = (n + 1) // 2\n",
    "print(\"Printing the the matrix...\")\n",
    "for row in range(n):\n",
    "    term = 1\n",
    "    if (row <= m): ll = row; ul = (n - row - 1)\n",
    "    else: ll = (n - row - 1); ul = row\n",
    "    for col in range(n):\n",
    "        print(\"%4d\"%term, end = \"\")\n",
    "        if (col < ll): term += 1\n",
    "        if (col >= ul): term -= 1\n",
    "    print(\"\")\n",
    "print(\"End of the pattern printing...\")"
   ]
  },
  {
   "cell_type": "code",
   "execution_count": 29,
   "id": "0a5a1302-aeb4-47e2-8fcd-beeffdcbf841",
   "metadata": {},
   "outputs": [],
   "source": [
    "# in C language\n",
    "#include<stdio.h>\n",
    "int main() {\n",
    "    int n = 0, row, col, term, m, ll, ul;\n",
    "    while(n % 2 == 0) {\n",
    "        printf(\"\\nPlease enter ODD number of layers:\");\n",
    "        scanf(\"%d\", &n);\n",
    "    }\n",
    "    m = (n + 1) / 2;\n",
    "    printf(\"\\nPrinting the the matrix...\\n\\n\");\n",
    "    for (row = 0; row < n; row++) {\n",
    "        term = 1;\n",
    "        if (row <= m) {ll = row; ul = (n - row - 1);}\n",
    "        else {ll = (n - row - 1); ul = row;}\n",
    "        for (col = 0; col < n; col++) {\n",
    "            printf(\"%4d\", term);\n",
    "            if (col < ll) term += 1;\n",
    "            if (col >= ul) term -= 1;\n",
    "        }\n",
    "        printf(\"\\n\");\n",
    "    }\n",
    "    printf(\"\\nEnd of the pattern printing...\\n\");\n",
    "}"
   ]
  },
  {
   "cell_type": "code",
   "execution_count": null,
   "id": "f7c72a3a-0172-4c88-b3fb-b583c43dd735",
   "metadata": {},
   "outputs": [],
   "source": [
    "# in Java language\n",
    "import java.util.Scanner;\n",
    "\n",
    "public class Main {\n",
    "    public static void main(String args[]) {\n",
    "        int n = 0, row, col, term, m, ll, ul;\n",
    "        Scanner sc = new Scanner(System.in);\n",
    "        while(n % 2 == 0) {\n",
    "            System.out.print(\"Please enter ODD number of layers:\");\n",
    "            n = sc.nextInt();\n",
    "        }\n",
    "        m = (n + 1) / 2;\n",
    "        System.out.println(\"\\nPrinting the the matrix...\");\n",
    "        for (row = 0; row < n; row++) {\n",
    "            term = 1;\n",
    "            if (row <= m) {ll = row; ul = (n - row - 1);}\n",
    "            else {ll = (n - row - 1); ul = row;}\n",
    "            for (col = 0; col < n; col++) {\n",
    "                System.out.printf(\"%4d\", term);\n",
    "                if (col < ll) term += 1;\n",
    "                if (col >= ul) term -= 1;\n",
    "            }\n",
    "            System.out.println(\"\");\n",
    "        }\n",
    "        System.out.println(\"\\nEnd of the pattern printing...\\n\");\n",
    "    }\n",
    "}"
   ]
  },
  {
   "cell_type": "code",
   "execution_count": null,
   "id": "061f85b3-bc38-4b9b-bc5a-b82249247ae1",
   "metadata": {},
   "outputs": [],
   "source": [
    "# array fill-up problem-7\n",
    "# MAGIC SQAURE\n",
    "Form and print a Magic Square with dimension nxn, where n is one ODD positive integer given by the user.\n",
    "Fill up the Magic Sqaure with numbers 1 to n^2 using them once in such a way that all row-wise, col-wise\n",
    "and both major diagonal-wise sums are equal to each other. The matrix thus obtained is called Magic Square.\n",
    "And sum thus obtained is called Magic Sum.     \n",
    "                                  *   *   *     r => row, c => col,   r -= 1; c += 1,   r = 0; c = n // 2\n",
    "n = 5 (Odd Integer from user)    **  **  **     \n",
    "                                * * * * * * *   1) Out of Range\n",
    "       0   1   2   3   4       *  **  **  **  2/3.  a) Row-wise Folding: if (r == -1) then r = (n - 1)\n",
    "--------------------------    *   *   *   *   3/2. b) Col-wise Folding: if (c == n) then c = 0\n",
    " 0 |  17  24   1   8  15                        1. c) Corner Logic: if (r == -1 and c == n) then r += 2 and c -= 1\n",
    " 1 |  23   5   7  14  16                        2) Pre-Ocupied\n",
    " 2 |   4   6  13  20  22                        4. a) if (arr[r][c] != 0) then r += 2 and c -= 1\n",
    " 3 |  10  12  19  21   3        n   msum\n",
    " 4 |  11  18  25   2   9      ------------\n",
    "--------------------------      3   15\n",
    "Magic Sum = 65                  5   65\n",
    "                                7   175\n",
    "                                n   ????\n",
    "                              ------------"
   ]
  },
  {
   "cell_type": "code",
   "execution_count": 42,
   "id": "126bd6e5-9cd4-4169-b76a-edadb14cf6d3",
   "metadata": {},
   "outputs": [
    {
     "name": "stdin",
     "output_type": "stream",
     "text": [
      "Please enter the dimension of the matrix:  5\n"
     ]
    },
    {
     "name": "stdout",
     "output_type": "stream",
     "text": [
      "So pre-calculated Magic Sum is 65\n",
      "Initializing the martix...\n",
      "Displaying the content of the martix...\n",
      "  17  24   1   8  15\n",
      "  23   5   7  14  16\n",
      "   4   6  13  20  22\n",
      "  10  12  19  21   3\n",
      "  11  18  25   2   9\n",
      "So post-calculated Magic Sum is 65\n",
      "End of the program...\n"
     ]
    }
   ],
   "source": [
    "while (True):\n",
    "    n = int(input(\"Please enter the dimension of the matrix: \"))\n",
    "    if (n % 2 == 1): break\n",
    "arr = [[0 for r in range(n)] for c in range(n)]\n",
    "r = 0; c = n // 2; msum = 0\n",
    "print (\"So pre-calculated Magic Sum is\", n * (1 + n*n) // 2)\n",
    "print(\"Initializing the martix...\")\n",
    "for i in range(1, n*n + 1):\n",
    "    arr[r][c] = i\n",
    "    if (r == c): msum += arr[r][c]\n",
    "    r -= 1; c += 1\n",
    "    if (r == -1 and c == n): r += 2; c -= 1\n",
    "    elif (r == -1): r = (n - 1)\n",
    "    elif (c == n): c = 0\n",
    "    elif (arr[r][c] != 0): r += 2; c -= 1\n",
    "print(\"Displaying the content of the martix...\")\n",
    "for r in range(0, n):\n",
    "    for c in range(0, n):\n",
    "        print(\"%4d\"%arr[r][c], end = \"\")\n",
    "    print(\"\")\n",
    "print (\"So post-calculated Magic Sum is\", msum)\n",
    "print(\"End of the program...\")"
   ]
  },
  {
   "cell_type": "code",
   "execution_count": null,
   "id": "9d3aa7f2-7024-4ac1-a158-086347e880e5",
   "metadata": {},
   "outputs": [],
   "source": []
  },
  {
   "cell_type": "code",
   "execution_count": null,
   "id": "0c2c182c-6d3e-44c3-9e7b-70732ff7959a",
   "metadata": {},
   "outputs": [],
   "source": []
  },
  {
   "cell_type": "code",
   "execution_count": null,
   "id": "c381f9e1-2982-48bd-9092-59efc190b229",
   "metadata": {},
   "outputs": [],
   "source": []
  }
 ],
 "metadata": {
  "kernelspec": {
   "display_name": "Python 3 (ipykernel)",
   "language": "python",
   "name": "python3"
  },
  "language_info": {
   "codemirror_mode": {
    "name": "ipython",
    "version": 3
   },
   "file_extension": ".py",
   "mimetype": "text/x-python",
   "name": "python",
   "nbconvert_exporter": "python",
   "pygments_lexer": "ipython3",
   "version": "3.11.7"
  }
 },
 "nbformat": 4,
 "nbformat_minor": 5
}
