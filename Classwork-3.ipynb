{
 "cells": [
  {
   "cell_type": "markdown",
   "id": "885e0b97-a33f-480f-bae7-238759d57f84",
   "metadata": {},
   "source": [
    "# **Competitive Coding with Python/C++/Java**"
   ]
  },
  {
   "cell_type": "markdown",
   "id": "fefd193e-8da0-4d1d-a210-323ba99492f5",
   "metadata": {},
   "source": [
    "## **Misc. Problem Solving:**"
   ]
  },
  {
   "cell_type": "code",
   "execution_count": 3,
   "id": "597e8779-ee3e-4a68-a9f6-55451a8b2d93",
   "metadata": {},
   "outputs": [
    {
     "name": "stdout",
     "output_type": "stream",
     "text": [
      "False False True\n",
      "False True False\n",
      "True False False\n"
     ]
    }
   ],
   "source": [
    "set1 = {11, 22, 33}\n",
    "set2 = {44, 55, 66, 77, 88, 99}\n",
    "set3 = {44, 55, 66}\n",
    "print (set1.issubset(set2), set2.issubset(set3), set3.issubset(set2))\n",
    "print (set1.issuperset(set2), set2.issuperset(set3), set3.issuperset(set2))\n",
    "print (set1.isdisjoint(set2), set2.isdisjoint(set3), set3.isdisjoint(set2))"
   ]
  },
  {
   "cell_type": "code",
   "execution_count": 4,
   "id": "f29fa4c2-4b46-4afb-b8df-3794805bf9d8",
   "metadata": {},
   "outputs": [
    {
     "name": "stdout",
     "output_type": "stream",
     "text": [
      "university\n",
      "['u', 'n', 'i', 'v', 'e', 'r', 's', 'i', 't', 'y']\n",
      "('u', 'n', 'i', 'v', 'e', 'r', 's', 'i', 't', 'y')\n",
      "{'i', 'n', 'u', 'y', 'r', 'e', 't', 's', 'v'}\n"
     ]
    }
   ],
   "source": [
    "mystr = \"university\"\n",
    "print (mystr)\n",
    "print (list(mystr))\n",
    "print (tuple(mystr))\n",
    "print (set(mystr))"
   ]
  },
  {
   "cell_type": "code",
   "execution_count": 6,
   "id": "990ec3ac-64b7-4096-8514-f52e87052987",
   "metadata": {},
   "outputs": [
    {
     "name": "stdout",
     "output_type": "stream",
     "text": [
      "['Alaska', 'Dad']\n"
     ]
    }
   ],
   "source": [
    "# https://leetcode.com/problems/keyboard-row/\n",
    "# 500. Keyboard Row\n",
    "class Solution(object):\n",
    "    def findWords(self, words):\n",
    "        \"\"\"\n",
    "        :type words: List[str]\n",
    "        :rtype: List[str]\n",
    "        \"\"\"\n",
    "        line1 = set(\"qwertyuiop\")\n",
    "        line2 = set(\"asdfghjkl\")\n",
    "        line3 = set(\"zxcvbnm\")\n",
    "        output = []\n",
    "        # print (line1, line2, line3)\n",
    "        for word in words:\n",
    "            word_set = set(word.lower())\n",
    "            if (word_set.issubset(line1) or word_set.issubset(line2) or word_set.issubset(line3)):\n",
    "                output.append(word)\n",
    "        return output     \n",
    "\n",
    "print (Solution().findWords([\"Hello\",\"Alaska\",\"Dad\",\"Peace\"]))\n",
    "\n",
    "# Input: words = [\"Hello\",\"Alaska\",\"Dad\",\"Peace\"]\n",
    "# Output: [\"Alaska\",\"Dad\"]"
   ]
  },
  {
   "cell_type": "code",
   "execution_count": 11,
   "id": "fd51b719-2542-4864-9984-334aa615bdbe",
   "metadata": {},
   "outputs": [
    {
     "name": "stdout",
     "output_type": "stream",
     "text": [
      "[0, 1]\n"
     ]
    }
   ],
   "source": [
    "# https://leetcode.com/problems/two-sum/\n",
    "# 1. Two Sum\n",
    "# Runtime: 1941 ms, faster than 40.92% of Python online submissions for Two Sum.\n",
    "class Solution(object):\n",
    "    def twoSum(self, nums, target):\n",
    "        \"\"\"\n",
    "        :type nums: List[int]\n",
    "        :type target: int\n",
    "        :rtype: List[int]\n",
    "        \"\"\"\n",
    "        for i in range(len(nums)):\n",
    "            data1 = nums[i]\n",
    "            for j in range(i + 1, len(nums)):\n",
    "                data2 = nums[j]\n",
    "                if (data1 + data2 == target):\n",
    "                    return[i, j]\n",
    "                    \n",
    "print (Solution().twoSum([2,7,11,15], 9))\n",
    "\n",
    "# Input: nums = [2,7,11,15], target = 9\n",
    "# Output: [0,1]"
   ]
  },
  {
   "cell_type": "code",
   "execution_count": 14,
   "id": "4a2ead30-28b9-4e23-93f7-7e4d1535b8d9",
   "metadata": {},
   "outputs": [
    {
     "name": "stdout",
     "output_type": "stream",
     "text": [
      "{}\n",
      "11 {11: 0}\n",
      "15 {11: 0, 15: 1}\n",
      "2 {11: 0, 15: 1, 2: 2}\n",
      "[3, 2]\n"
     ]
    }
   ],
   "source": [
    "# Runtime: 0 ms, faster than 100.00% of Python online submissions for Two Sum.\n",
    "class Solution(object):\n",
    "    def twoSum(self, nums, target):\n",
    "        \"\"\"\n",
    "        :type nums: List[int]\n",
    "        :type target: int\n",
    "        :rtype: List[int]\n",
    "        \"\"\"\n",
    "        trace = {}\n",
    "        print (trace)\n",
    "        for i in range(len(nums)):\n",
    "            if (target - nums[i] in trace):\n",
    "                return [i, trace[target - nums[i]]]\n",
    "            else:\n",
    "                trace[nums[i]] = i\n",
    "            print(nums[i], trace)\n",
    "                    \n",
    "print (Solution().twoSum([11, 15, 2, 7], 9))\n",
    "\n",
    "# Input: nums = [2,7,11,15], target = 9\n",
    "# Output: [0,1]"
   ]
  },
  {
   "cell_type": "code",
   "execution_count": 15,
   "id": "72387a90-c151-4104-bd24-5622c60d6a3a",
   "metadata": {},
   "outputs": [
    {
     "name": "stdout",
     "output_type": "stream",
     "text": [
      "True\n",
      "False\n",
      "False\n"
     ]
    }
   ],
   "source": [
    "# https://leetcode.com/problems/palindrome-number/\n",
    "# 9. Palindrome Number\n",
    "# Runtime: 11 ms, faster than 55.12% of Python online submissions for Palindrome Number.\n",
    "class Solution(object):\n",
    "    def isPalindrome(self, x):\n",
    "        \"\"\"\n",
    "        :type x: int\n",
    "        :rtype: bool\n",
    "        \"\"\"\n",
    "        if (x < 0): return False\n",
    "        rev_num = 0\n",
    "        original_num = x\n",
    "        while(x != 0):\n",
    "            last_digit = x % 10\n",
    "            rev_num = rev_num * 10 + last_digit\n",
    "            x = x // 10\n",
    "        if (rev_num == original_num): return True\n",
    "        return False\n",
    "x = 121\n",
    "print (Solution().isPalindrome(x))\n",
    "x = -121\n",
    "print (Solution().isPalindrome(x))\n",
    "x = 10\n",
    "print (Solution().isPalindrome(x))"
   ]
  },
  {
   "cell_type": "code",
   "execution_count": 16,
   "id": "f7c6b3d5-a99f-48a8-976d-639215233182",
   "metadata": {},
   "outputs": [
    {
     "name": "stdout",
     "output_type": "stream",
     "text": [
      "university ytisrevinu\n"
     ]
    }
   ],
   "source": [
    "my_str = \"university\"\n",
    "print (my_str, my_str[::-1])"
   ]
  },
  {
   "cell_type": "code",
   "execution_count": 18,
   "id": "b15aff60-2aa6-4ed6-8a56-5090e819823c",
   "metadata": {},
   "outputs": [
    {
     "name": "stdout",
     "output_type": "stream",
     "text": [
      "True\n",
      "False\n",
      "False\n"
     ]
    }
   ],
   "source": [
    "# Runtime: 6 ms, faster than 79.94% of Python online submissions for Palindrome Number.\n",
    "class Solution(object):\n",
    "    def isPalindrome(self, x):\n",
    "        \"\"\"\n",
    "        :type x: int\n",
    "        :rtype: bool\n",
    "        \"\"\"\n",
    "        value = str(x)\n",
    "        if (value == value[::-1]): return True\n",
    "        else: return False\n",
    "x = 121\n",
    "print (Solution().isPalindrome(x))\n",
    "x = -121\n",
    "print (Solution().isPalindrome(x))\n",
    "x = 10\n",
    "print (Solution().isPalindrome(x))"
   ]
  },
  {
   "cell_type": "code",
   "execution_count": 23,
   "id": "a4137b96-4582-48e2-a3f7-5158616fcb3b",
   "metadata": {},
   "outputs": [
    {
     "name": "stdout",
     "output_type": "stream",
     "text": [
      "2\n",
      "2\n",
      "4\n",
      "4\n"
     ]
    }
   ],
   "source": [
    "# https://leetcode.com/problems/sqrtx/\n",
    "# 69. Sqrt(x)\n",
    "# Runtime: 1107 ms, faster than 14.96% of Python online submissions for Sqrt(x).\n",
    "class Solution(object):\n",
    "    def mySqrt(self, x):\n",
    "        \"\"\"\n",
    "        :type x: int\n",
    "        :rtype: int\n",
    "        \"\"\"\n",
    "        if (x == 0): return 0\n",
    "        n = 1\n",
    "        while(n * n < x):\n",
    "            n += 1\n",
    "        return n - 1 if n * n > x else n\n",
    "print (Solution().mySqrt(4))\n",
    "print (Solution().mySqrt(8))\n",
    "print (Solution().mySqrt(16))\n",
    "print (Solution().mySqrt(20))"
   ]
  },
  {
   "cell_type": "code",
   "execution_count": 24,
   "id": "52bcda92-a9df-49aa-a93f-ed16bcb2d2a0",
   "metadata": {},
   "outputs": [
    {
     "name": "stdout",
     "output_type": "stream",
     "text": [
      "2\n",
      "2\n",
      "4\n",
      "4\n"
     ]
    }
   ],
   "source": [
    "# https://leetcode.com/problems/sqrtx/\n",
    "# 69. Sqrt(x)\n",
    "# Runtime: 0 ms, faster than 100.00% of Python online submissions for Sqrt(x).\n",
    "class Solution(object):\n",
    "    def mySqrt(self, x):\n",
    "        \"\"\"\n",
    "        :type x: int\n",
    "        :rtype: int\n",
    "        \"\"\"\n",
    "        low = 1\n",
    "        high = x + 1\n",
    "        ans = 0\n",
    "        while (low < high):\n",
    "            mid = (low + high) // 2\n",
    "            if (mid * mid <= x):\n",
    "                low = mid + 1\n",
    "                ans = mid\n",
    "            else:\n",
    "                high = mid\n",
    "        return ans\n",
    "print (Solution().mySqrt(4))\n",
    "print (Solution().mySqrt(8))\n",
    "print (Solution().mySqrt(16))\n",
    "print (Solution().mySqrt(20))"
   ]
  },
  {
   "cell_type": "code",
   "execution_count": 30,
   "id": "b3629140-b47d-4b03-9ece-2163d2b2e9eb",
   "metadata": {},
   "outputs": [
    {
     "name": "stdout",
     "output_type": "stream",
     "text": [
      "321\n",
      "-321\n",
      "21\n"
     ]
    }
   ],
   "source": [
    "# LeetCode: 7. Reverse Integer\n",
    "# Link: https://leetcode.com/problems/reverse-integer/\n",
    "# Runtime: 14 ms, faster than 73.72% of Python online submissions for Reverse Integer.\n",
    "class Solution(object):\n",
    "    def reverse(self, x):\n",
    "        \"\"\"\n",
    "        :type x: int\n",
    "        :rtype: int\n",
    "        \"\"\"\n",
    "        if (x >= -(2 ** 31) and x <= (2 ** 31 - 1)):\n",
    "            x = str(x)\n",
    "            if (x[0] == '-'):   # for -ve numbers\n",
    "                a = int('-' + x[-1:0:-1])\n",
    "            else:   # for +ve numbers\n",
    "                a = int(x[::-1])\n",
    "            if (a >= -(2 ** 31) and a <= (2 ** 31 - 1)):\n",
    "                return a\n",
    "            else:\n",
    "                return 0\n",
    "        else:\n",
    "            return 0\n",
    "print (Solution().reverse(123))\n",
    "print (Solution().reverse(-123))\n",
    "print (Solution().reverse(120))"
   ]
  },
  {
   "cell_type": "code",
   "execution_count": 28,
   "id": "3519f643-c397-42db-b25d-dff6fa2035bc",
   "metadata": {},
   "outputs": [
    {
     "name": "stdout",
     "output_type": "stream",
     "text": [
      "university\n",
      "y ytisrevin\n",
      "ytisrevinu\n"
     ]
    }
   ],
   "source": [
    "        #  u n i v e r\n",
    "        #  0 1 2 3 4 5\n",
    "        # -6-5-4-3-2-1\n",
    "mystr = \"university\"\n",
    "print (mystr)\n",
    "print (mystr[-1], mystr[-1:0:-1])\n",
    "print (mystr[::-1])"
   ]
  },
  {
   "cell_type": "code",
   "execution_count": 34,
   "id": "23e6df8c-ea18-479f-a927-447c34434767",
   "metadata": {},
   "outputs": [
    {
     "name": "stdout",
     "output_type": "stream",
     "text": [
      "-1234\n",
      "-4321\n"
     ]
    }
   ],
   "source": [
    "value = -1234\n",
    "# output: -4321\n",
    "mystr = str(value)\n",
    "print (mystr)\n",
    "output = int(\"-\" + mystr[-1:0:-1])\n",
    "print (output)"
   ]
  },
  {
   "cell_type": "code",
   "execution_count": 36,
   "id": "b7c52652-cbe6-4eb2-bfe7-68363b731613",
   "metadata": {},
   "outputs": [
    {
     "name": "stdout",
     "output_type": "stream",
     "text": [
      "True\n",
      "True\n",
      "False\n"
     ]
    }
   ],
   "source": [
    "# https://leetcode.com/problems/power-of-two/submissions/\n",
    "# 231. Power of Two\n",
    "# Runtime: 3 ms, faster than 21.02% of Python online submissions for Power of Two.\n",
    "class Solution(object):\n",
    "    def isPowerOfTwo(self, n):\n",
    "        \"\"\"\n",
    "        :type n: int\n",
    "        :rtype: bool\n",
    "        \"\"\"\n",
    "        p = 0\n",
    "        while (2 ** p < n):\n",
    "            p = p + 1\n",
    "        if (2 ** p == n):\n",
    "            return True\n",
    "        else:\n",
    "            return False\n",
    "\n",
    "print(Solution().isPowerOfTwo(1))\n",
    "print(Solution().isPowerOfTwo(16))\n",
    "print(Solution().isPowerOfTwo(3))"
   ]
  },
  {
   "cell_type": "code",
   "execution_count": null,
   "id": "f75ad80d-6abd-46d0-a856-684e858be7c7",
   "metadata": {},
   "outputs": [],
   "source": [
    "            244   116  52   20\n",
    "500 = 256 + 128 + 64 + 32 + 16 + 4 = 1 1111 0100\n",
    "            188   60   28   12\n",
    "700 = 512 + 128 + 32 + 16 + 8 + 4 = 10 1011 1100\n",
    "\n",
    "         16 = 10000\n",
    "(16-1) = 15 = 01111\n",
    "          and 00000 == 0\n",
    "\n",
    "         20 = 10100\n",
    "(20-1) = 19 = 10011\n",
    "          and 10000 != 0"
   ]
  },
  {
   "cell_type": "code",
   "execution_count": 39,
   "id": "2296ff17-d86f-42b2-9468-24cedf5506ab",
   "metadata": {},
   "outputs": [
    {
     "name": "stdout",
     "output_type": "stream",
     "text": [
      "True\n",
      "True\n",
      "False\n"
     ]
    }
   ],
   "source": [
    "# https://leetcode.com/problems/power-of-two/submissions/\n",
    "# 231. Power of Two\n",
    "# Runtime: 0 ms, faster than 100.00% of Python online submissions for Power of Two.\n",
    "class Solution(object):\n",
    "    def isPowerOfTwo(self, n):\n",
    "        \"\"\"\n",
    "        :type n: int\n",
    "        :rtype: bool\n",
    "        \"\"\"\n",
    "        return n != 0 and n & (n - 1) == 0\n",
    "        # return n > 0 and not(n & (n - 1))\n",
    "\n",
    "print(Solution().isPowerOfTwo(1))\n",
    "print(Solution().isPowerOfTwo(16))\n",
    "print(Solution().isPowerOfTwo(3))"
   ]
  },
  {
   "cell_type": "code",
   "execution_count": null,
   "id": "eb180e4f-66ac-4d43-b7d4-00e0eafd9322",
   "metadata": {},
   "outputs": [],
   "source": []
  },
  {
   "cell_type": "code",
   "execution_count": null,
   "id": "ddd80674-6c01-49dc-a108-dfa81971d9c6",
   "metadata": {},
   "outputs": [],
   "source": []
  },
  {
   "cell_type": "code",
   "execution_count": null,
   "id": "7d46a1b9-9f7a-4ec9-b3f0-09b5c9304aa0",
   "metadata": {},
   "outputs": [],
   "source": []
  },
  {
   "cell_type": "code",
   "execution_count": null,
   "id": "25620b3c-ef0a-4994-b5ce-76693b860db4",
   "metadata": {},
   "outputs": [],
   "source": []
  }
 ],
 "metadata": {
  "kernelspec": {
   "display_name": "Python 3 (ipykernel)",
   "language": "python",
   "name": "python3"
  },
  "language_info": {
   "codemirror_mode": {
    "name": "ipython",
    "version": 3
   },
   "file_extension": ".py",
   "mimetype": "text/x-python",
   "name": "python",
   "nbconvert_exporter": "python",
   "pygments_lexer": "ipython3",
   "version": "3.11.7"
  }
 },
 "nbformat": 4,
 "nbformat_minor": 5
}
