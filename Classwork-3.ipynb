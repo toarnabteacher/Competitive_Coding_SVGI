{
 "cells": [
  {
   "cell_type": "markdown",
   "id": "885e0b97-a33f-480f-bae7-238759d57f84",
   "metadata": {},
   "source": [
    "# **Competitive Coding with Python/C++/Java**"
   ]
  },
  {
   "cell_type": "markdown",
   "id": "fefd193e-8da0-4d1d-a210-323ba99492f5",
   "metadata": {},
   "source": [
    "## **Misc. Problem Solving:**"
   ]
  },
  {
   "cell_type": "code",
   "execution_count": 3,
   "id": "597e8779-ee3e-4a68-a9f6-55451a8b2d93",
   "metadata": {},
   "outputs": [
    {
     "name": "stdout",
     "output_type": "stream",
     "text": [
      "False False True\n",
      "False True False\n",
      "True False False\n"
     ]
    }
   ],
   "source": [
    "set1 = {11, 22, 33}\n",
    "set2 = {44, 55, 66, 77, 88, 99}\n",
    "set3 = {44, 55, 66}\n",
    "print (set1.issubset(set2), set2.issubset(set3), set3.issubset(set2))\n",
    "print (set1.issuperset(set2), set2.issuperset(set3), set3.issuperset(set2))\n",
    "print (set1.isdisjoint(set2), set2.isdisjoint(set3), set3.isdisjoint(set2))"
   ]
  },
  {
   "cell_type": "code",
   "execution_count": 4,
   "id": "f29fa4c2-4b46-4afb-b8df-3794805bf9d8",
   "metadata": {},
   "outputs": [
    {
     "name": "stdout",
     "output_type": "stream",
     "text": [
      "university\n",
      "['u', 'n', 'i', 'v', 'e', 'r', 's', 'i', 't', 'y']\n",
      "('u', 'n', 'i', 'v', 'e', 'r', 's', 'i', 't', 'y')\n",
      "{'i', 'n', 'u', 'y', 'r', 'e', 't', 's', 'v'}\n"
     ]
    }
   ],
   "source": [
    "mystr = \"university\"\n",
    "print (mystr)\n",
    "print (list(mystr))\n",
    "print (tuple(mystr))\n",
    "print (set(mystr))"
   ]
  },
  {
   "cell_type": "code",
   "execution_count": 6,
   "id": "990ec3ac-64b7-4096-8514-f52e87052987",
   "metadata": {},
   "outputs": [
    {
     "name": "stdout",
     "output_type": "stream",
     "text": [
      "['Alaska', 'Dad']\n"
     ]
    }
   ],
   "source": [
    "# https://leetcode.com/problems/keyboard-row/\n",
    "# 500. Keyboard Row\n",
    "class Solution(object):\n",
    "    def findWords(self, words):\n",
    "        \"\"\"\n",
    "        :type words: List[str]\n",
    "        :rtype: List[str]\n",
    "        \"\"\"\n",
    "        line1 = set(\"qwertyuiop\")\n",
    "        line2 = set(\"asdfghjkl\")\n",
    "        line3 = set(\"zxcvbnm\")\n",
    "        output = []\n",
    "        # print (line1, line2, line3)\n",
    "        for word in words:\n",
    "            word_set = set(word.lower())\n",
    "            if (word_set.issubset(line1) or word_set.issubset(line2) or word_set.issubset(line3)):\n",
    "                output.append(word)\n",
    "        return output     \n",
    "\n",
    "print (Solution().findWords([\"Hello\",\"Alaska\",\"Dad\",\"Peace\"]))\n",
    "\n",
    "# Input: words = [\"Hello\",\"Alaska\",\"Dad\",\"Peace\"]\n",
    "# Output: [\"Alaska\",\"Dad\"]"
   ]
  },
  {
   "cell_type": "code",
   "execution_count": null,
   "id": "fd51b719-2542-4864-9984-334aa615bdbe",
   "metadata": {},
   "outputs": [],
   "source": []
  },
  {
   "cell_type": "code",
   "execution_count": null,
   "id": "4a2ead30-28b9-4e23-93f7-7e4d1535b8d9",
   "metadata": {},
   "outputs": [],
   "source": []
  },
  {
   "cell_type": "code",
   "execution_count": null,
   "id": "72387a90-c151-4104-bd24-5622c60d6a3a",
   "metadata": {},
   "outputs": [],
   "source": []
  },
  {
   "cell_type": "code",
   "execution_count": null,
   "id": "b15aff60-2aa6-4ed6-8a56-5090e819823c",
   "metadata": {},
   "outputs": [],
   "source": []
  },
  {
   "cell_type": "code",
   "execution_count": null,
   "id": "a4137b96-4582-48e2-a3f7-5158616fcb3b",
   "metadata": {},
   "outputs": [],
   "source": []
  },
  {
   "cell_type": "code",
   "execution_count": null,
   "id": "b3629140-b47d-4b03-9ece-2163d2b2e9eb",
   "metadata": {},
   "outputs": [],
   "source": []
  },
  {
   "cell_type": "code",
   "execution_count": null,
   "id": "3519f643-c397-42db-b25d-dff6fa2035bc",
   "metadata": {},
   "outputs": [],
   "source": []
  }
 ],
 "metadata": {
  "kernelspec": {
   "display_name": "Python 3 (ipykernel)",
   "language": "python",
   "name": "python3"
  },
  "language_info": {
   "codemirror_mode": {
    "name": "ipython",
    "version": 3
   },
   "file_extension": ".py",
   "mimetype": "text/x-python",
   "name": "python",
   "nbconvert_exporter": "python",
   "pygments_lexer": "ipython3",
   "version": "3.11.7"
  }
 },
 "nbformat": 4,
 "nbformat_minor": 5
}
